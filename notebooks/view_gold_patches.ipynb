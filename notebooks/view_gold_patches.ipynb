{
 "cells": [
  {
   "cell_type": "code",
   "execution_count": 10,
   "metadata": {},
   "outputs": [
    {
     "name": "stdout",
     "output_type": "stream",
     "text": [
      "Dataset({\n",
      "    features: ['repo', 'instance_id', 'base_commit', 'patch', 'test_patch', 'problem_statement', 'hints_text', 'created_at', 'version', 'FAIL_TO_PASS', 'PASS_TO_PASS', 'environment_setup_commit'],\n",
      "    num_rows: 300\n",
      "})\n",
      "diff --git a/django/urls/resolvers.py b/django/urls/resolvers.py\n",
      "--- a/django/urls/resolvers.py\n",
      "+++ b/django/urls/resolvers.py\n",
      "@@ -59,9 +59,16 @@ def __getitem__(self, index):\n",
      "         return (self.func, self.args, self.kwargs)[index]\n",
      " \n",
      "     def __repr__(self):\n",
      "-        return \"ResolverMatch(func=%s, args=%s, kwargs=%s, url_name=%s, app_names=%s, namespaces=%s, route=%s)\" % (\n",
      "-            self._func_path, self.args, self.kwargs, self.url_name,\n",
      "-            self.app_names, self.namespaces, self.route,\n",
      "+        if isinstance(self.func, functools.partial):\n",
      "+            func = repr(self.func)\n",
      "+        else:\n",
      "+            func = self._func_path\n",
      "+        return (\n",
      "+            'ResolverMatch(func=%s, args=%r, kwargs=%r, url_name=%r, '\n",
      "+            'app_names=%r, namespaces=%r, route=%r)' % (\n",
      "+                func, self.args, self.kwargs, self.url_name,\n",
      "+                self.app_names, self.namespaces, self.route,\n",
      "+            )\n",
      "         )\n",
      " \n",
      " \n",
      "\n"
     ]
    }
   ],
   "source": [
    "import datasets\n",
    "\n",
    "dataset = datasets.load_dataset(\"princeton-nlp/SWE-bench_Lite\")\n",
    "\n",
    "print(dataset['test'])\n",
    "\n",
    "\n",
    "\n",
    "instance_id = 'django__django-14155'\n",
    "\n",
    "# Filter the dataset to get the specific instance\n",
    "instance = dataset['test'].filter(lambda x: x['instance_id'] == instance_id)\n",
    "print(instance[0]['patch'])  # Print the first (and should be only) matching row"
   ]
  },
  {
   "cell_type": "code",
   "execution_count": null,
   "metadata": {},
   "outputs": [],
   "source": []
  }
 ],
 "metadata": {
  "kernelspec": {
   "display_name": "moatless-tree-search",
   "language": "python",
   "name": "python3"
  },
  "language_info": {
   "codemirror_mode": {
    "name": "ipython",
    "version": 3
   },
   "file_extension": ".py",
   "mimetype": "text/x-python",
   "name": "python",
   "nbconvert_exporter": "python",
   "pygments_lexer": "ipython3",
   "version": "3.11.9"
  }
 },
 "nbformat": 4,
 "nbformat_minor": 2
}
