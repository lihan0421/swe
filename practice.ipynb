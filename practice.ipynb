{
 "cells": [
  {
   "cell_type": "code",
   "execution_count": 13,
   "id": "96bbf31c-d7d3-416b-87a6-ba8526fc0b98",
   "metadata": {},
   "outputs": [],
   "source": [
    "# import sys # 即添加包名的搜索路径\n",
    "# sys.path.append(\"/root/autodl-tmp/moatless-tree-search-main/moatless\")"
   ]
  },
  {
   "cell_type": "code",
   "execution_count": 1,
   "id": "524e87f9-084b-4ec7-94af-f034dc530b01",
   "metadata": {},
   "outputs": [
    {
     "data": {
      "text/plain": [
       "True"
      ]
     },
     "execution_count": 1,
     "metadata": {},
     "output_type": "execute_result"
    }
   ],
   "source": [
    "from dotenv import load_dotenv\n",
    "import os\n",
    "\n",
    "# 加载 .env 文件\n",
    "load_dotenv()"
   ]
  },
  {
   "cell_type": "code",
   "execution_count": 2,
   "id": "b3b45a50-56cc-47c9-8c9e-5273913c5686",
   "metadata": {},
   "outputs": [
    {
     "name": "stderr",
     "output_type": "stream",
     "text": [
      "/root/miniconda3/lib/python3.12/site-packages/pydantic/_internal/_config.py:345: UserWarning: Valid config keys have changed in V2:\n",
      "* 'fields' has been removed\n",
      "  warnings.warn(message, UserWarning)\n",
      "[nltk_data] Downloading package punkt_tab to\n",
      "[nltk_data]     /root/miniconda3/lib/python3.12/site-\n",
      "[nltk_data]     packages/llama_index/core/_static/nltk_cache...\n",
      "[nltk_data]   Package punkt_tab is already up-to-date!\n",
      "/root/miniconda3/lib/python3.12/site-packages/pydantic/_internal/_fields.py:192: UserWarning: Field name \"name\" in \"FeedbackResponse\" shadows an attribute in parent \"StructuredOutput\"\n",
      "  warnings.warn(\n"
     ]
    }
   ],
   "source": [
    "import json\n",
    "from typing import Optional, Dict, Any, List, Callable, Union\n",
    "from textwrap import dedent\n",
    "\n",
    "from moatless.benchmark.utils import get_moatless_instance\n",
    "from moatless.completion.model import StructuredOutput, Completion\n",
    "from moatless.completion.completion import CompletionModel, CompletionResponse"
   ]
  },
  {
   "cell_type": "markdown",
   "id": "67d03596-d329-4eab-945f-ce1a521a9651",
   "metadata": {},
   "source": [
    "# CompletionModel"
   ]
  },
  {
   "cell_type": "code",
   "execution_count": 3,
   "id": "c13db816-20e4-4bd9-9636-af4d3c9b4cd5",
   "metadata": {},
   "outputs": [
    {
     "data": {
      "text/plain": [
       "CompletionModel(model='openai/moonshot-v1-32k', temperature=0.7, max_tokens=2000, timeout=120.0, model_base_url='https://api.moonshot.cn/v1', model_api_key='sk-ZfLc3KIKE88O45O53KLEmmwii5wB2ZPUA9CGvNST3ohaGwNN', response_format=None, stop_words=None, metadata=None, thoughts_in_action=False)"
      ]
     },
     "execution_count": 3,
     "metadata": {},
     "output_type": "execute_result"
    }
   ],
   "source": [
    "# litellm对于托管在openai proxy的模型必须在名字前加 'openai/'\n",
    "completion_model = CompletionModel(model=\"openai/moonshot-v1-32k\", model_base_url=os.getenv(\"CUSTOM_LLM_API_BASE\"), model_api_key=os.getenv(\"CUSTOM_LLM_API_KEY\"), temperature=0.7)\n",
    "# completion_model = CompletionModel(model=\"deepseek/deepseek-chat\", temperature=0.7)\n",
    "completion_model"
   ]
  },
  {
   "cell_type": "code",
   "execution_count": 40,
   "id": "555898c8-860f-4875-91a9-385c1ecfb59f",
   "metadata": {},
   "outputs": [],
   "source": [
    "messages = [\n",
    "    {\"role\": \"user\", \"content\": \"请告诉我 1+1=?\"}\n",
    "]\n",
    "\n",
    "# completion_model._litellm_base_completion(messages=messages)"
   ]
  },
  {
   "cell_type": "code",
   "execution_count": 180,
   "id": "5a5c706f-4bab-4329-be74-2b59caf63737",
   "metadata": {},
   "outputs": [
    {
     "data": {
      "text/plain": [
       "CompletionResponse(structured_outputs=[StructuredOutput()], text_response=None, completion=Completion(model='deepseek/deepseek-chat', input=[{'role': 'system', 'content': '\\n你是陈思霖的助手，请提供准确且简洁的回答!\\n\\n# Response format\\n        You must respond with only a JSON object that match the following json_schema:\\n\\n\\n        {\\n  \"properties\": {},\\n  \"title\": \"StructuredOutput\",\\n  \"type\": \"object\"\\n}\\n\\n        Make sure to return an instance of the JSON, not the schema itself.'}, {'role': 'user', 'content': '请告诉我 1+1=?'}, {'role': 'assistant', 'content': '{\"answer\": 2}'}], response={'id': '20ff6dff-ec33-4c8f-9aa5-b421d53bce99', 'created': 1740362436, 'model': 'deepseek/deepseek-chat', 'object': 'chat.completion', 'system_fingerprint': 'fp_3a5770e1b4_prod', 'choices': [{'finish_reason': 'stop', 'index': 0, 'message': {'content': '{\"answer\": 2}', 'role': 'assistant', 'tool_calls': None, 'function_call': None}}], 'usage': {'completion_tokens': 10, 'prompt_tokens': 96, 'total_tokens': 106, 'completion_tokens_details': None, 'prompt_tokens_details': {'audio_tokens': None, 'cached_tokens': 64}, 'prompt_cache_hit_tokens': 64, 'prompt_cache_miss_tokens': 32}, 'service_tier': None}, retries=None, usage=Usage(completion_cost=2.412e-05, completion_tokens=10, prompt_tokens=96, cached_tokens=64), flags=[]))"
      ]
     },
     "execution_count": 180,
     "metadata": {},
     "output_type": "execute_result"
    }
   ],
   "source": [
    "system_prompt = dedent(\n",
    "    \"\"\"\n",
    "    你是陈思霖的助手，请提供准确且简洁的回答!\n",
    "    \"\"\"\n",
    ")\n",
    "\n",
    "response_model = StructuredOutput\n",
    "\n",
    "out = completion_model.create_completion(messages=messages, system_prompt=system_prompt, response_model=response_model)\n",
    "out"
   ]
  },
  {
   "cell_type": "markdown",
   "id": "f77340ea-c74f-4e8d-8219-6ba18dc7973e",
   "metadata": {},
   "source": [
    "## model内部"
   ]
  },
  {
   "cell_type": "code",
   "execution_count": 25,
   "id": "9a7b9418-eb63-4a6b-8504-64011d56136d",
   "metadata": {},
   "outputs": [
    {
     "name": "stdout",
     "output_type": "stream",
     "text": [
      "[{'role': 'system', 'content': '\\n你是陈思霖的助手，请提供准确且简洁的回答!\\n\\n# Response format\\nYou must respond with only a JSON object that match the following json_schema:\\n\\n\\n{\\n  \"properties\": {},\\n  \"title\": \"StructuredOutput\",\\n  \"type\": \"object\"\\n}\\n\\nMake sure to return an instance of the JSON, not the schema itself.'}, {'role': 'system', 'content': '\\n你是陈思霖的助手，请提供准确且简洁的回答!\\n\\n# Response format\\nYou must respond with only a JSON object that match the following json_schema:\\n\\n\\n{\\n  \"properties\": {},\\n  \"title\": \"StructuredOutput\",\\n  \"type\": \"object\"\\n}\\n\\nMake sure to return an instance of the JSON, not the schema itself.'}, {'role': 'user', 'content': '请告诉我 1+1=?'}, {'role': 'assistant', 'content': '{}'}]\n"
     ]
    }
   ],
   "source": [
    "system_prompt = dedent(\n",
    "    \"\"\"\n",
    "    你是陈思霖的助手，请提供准确且简洁的回答!\n",
    "    \"\"\"\n",
    ")\n",
    "\n",
    "response_model = StructuredOutput\n",
    "\n",
    "system_prompt += dedent(f\"\"\"\\n# Response format\n",
    "You must respond with only a JSON object that match the following json_schema:\\n\n",
    "\n",
    "{json.dumps(response_model.model_json_schema(), indent=2, ensure_ascii=False)}\n",
    "\n",
    "Make sure to return an instance of the JSON, not the schema itself.\"\"\")\n",
    "\n",
    "messages.insert(0, {\"role\": \"system\", \"content\": system_prompt})\n",
    "\n",
    "print(messages)"
   ]
  },
  {
   "cell_type": "code",
   "execution_count": 17,
   "id": "56914aea-14b7-48a7-b8b2-4d2203df5b5c",
   "metadata": {},
   "outputs": [],
   "source": [
    "completion_response = completion_model._litellm_base_completion(\n",
    "                    messages=messages, response_format={\"type\": \"json_object\"}\n",
    "                )"
   ]
  },
  {
   "cell_type": "code",
   "execution_count": 20,
   "id": "b7849ca1-8d01-4bbc-a28c-ca9e808aaa66",
   "metadata": {},
   "outputs": [
    {
     "data": {
      "text/plain": [
       "[{'role': 'system',\n",
       "  'content': '\\n你是陈思霖的助手，请提供准确且简洁的回答!\\n\\n# Response format\\nYou must respond with only a JSON object that match the following json_schema:\\n\\n\\n{\\n  \"properties\": {},\\n  \"title\": \"StructuredOutput\",\\n  \"type\": \"object\"\\n}\\n\\nMake sure to return an instance of the JSON, not the schema itself.'},\n",
       " {'role': 'user', 'content': '请告诉我 1+1=?'}]"
      ]
     },
     "execution_count": 20,
     "metadata": {},
     "output_type": "execute_result"
    }
   ],
   "source": [
    "messages"
   ]
  },
  {
   "cell_type": "code",
   "execution_count": 18,
   "id": "6c5ee0a7-5a03-4e75-bfc4-c7367b8e6107",
   "metadata": {},
   "outputs": [
    {
     "data": {
      "text/plain": [
       "'{}'"
      ]
     },
     "execution_count": 18,
     "metadata": {},
     "output_type": "execute_result"
    }
   ],
   "source": [
    "assistant_message = completion_response.choices[0].message.content\n",
    "assistant_message"
   ]
  },
  {
   "cell_type": "code",
   "execution_count": 21,
   "id": "40701e34-837f-4d3f-99c6-32821ea99d05",
   "metadata": {},
   "outputs": [
    {
     "data": {
      "text/plain": [
       "[{'role': 'system',\n",
       "  'content': '\\n你是陈思霖的助手，请提供准确且简洁的回答!\\n\\n# Response format\\nYou must respond with only a JSON object that match the following json_schema:\\n\\n\\n{\\n  \"properties\": {},\\n  \"title\": \"StructuredOutput\",\\n  \"type\": \"object\"\\n}\\n\\nMake sure to return an instance of the JSON, not the schema itself.'},\n",
       " {'role': 'user', 'content': '请告诉我 1+1=?'},\n",
       " {'role': 'assistant', 'content': '{}'}]"
      ]
     },
     "execution_count": 21,
     "metadata": {},
     "output_type": "execute_result"
    }
   ],
   "source": [
    "messages.append({\"role\": \"assistant\", \"content\": assistant_message})\n",
    "messages"
   ]
  },
  {
   "cell_type": "code",
   "execution_count": 22,
   "id": "fede2f6f-e4a0-4b71-bdd7-f7d6b1c93709",
   "metadata": {},
   "outputs": [
    {
     "data": {
      "text/plain": [
       "StructuredOutput()"
      ]
     },
     "execution_count": 22,
     "metadata": {},
     "output_type": "execute_result"
    }
   ],
   "source": [
    "response = response_model.model_validate_json(assistant_message)\n",
    "response"
   ]
  },
  {
   "cell_type": "code",
   "execution_count": 23,
   "id": "6d2c3b0e-de01-424c-97ab-5dfb8887817f",
   "metadata": {
    "scrolled": true
   },
   "outputs": [
    {
     "data": {
      "text/plain": [
       "Completion(model='deepseek/deepseek-chat', input=[{'role': 'system', 'content': '\\n你是陈思霖的助手，请提供准确且简洁的回答!\\n\\n# Response format\\nYou must respond with only a JSON object that match the following json_schema:\\n\\n\\n{\\n  \"properties\": {},\\n  \"title\": \"StructuredOutput\",\\n  \"type\": \"object\"\\n}\\n\\nMake sure to return an instance of the JSON, not the schema itself.'}, {'role': 'user', 'content': '请告诉我 1+1=?'}, {'role': 'assistant', 'content': '{}'}], response={'id': '3505b491-4bb1-4678-b6fe-d2305e68a873', 'created': 1740361131, 'model': 'deepseek/deepseek-chat', 'object': 'chat.completion', 'system_fingerprint': 'fp_3a5770e1b4_prod', 'choices': [{'finish_reason': 'stop', 'index': 0, 'message': {'content': '{}', 'role': 'assistant', 'tool_calls': None, 'function_call': None}}], 'usage': {'completion_tokens': 5, 'prompt_tokens': 93, 'total_tokens': 98, 'completion_tokens_details': None, 'prompt_tokens_details': {'audio_tokens': None, 'cached_tokens': 64}, 'prompt_cache_hit_tokens': 64, 'prompt_cache_miss_tokens': 29}, 'service_tier': None}, retries=None, usage=Usage(completion_cost=1.781e-05, completion_tokens=5, prompt_tokens=93, cached_tokens=64), flags=[])"
      ]
     },
     "execution_count": 23,
     "metadata": {},
     "output_type": "execute_result"
    }
   ],
   "source": [
    "from moatless.completion.model import Completion\n",
    "\n",
    "completion = Completion.from_llm_completion(\n",
    "    input_messages=messages,\n",
    "    completion_response=completion_response,\n",
    "    model=\"deepseek/deepseek-chat\",\n",
    ")\n",
    "completion"
   ]
  },
  {
   "cell_type": "code",
   "execution_count": 43,
   "id": "d7ab4cb8-f15e-421f-94e6-7b900e7e5e56",
   "metadata": {},
   "outputs": [
    {
     "data": {
      "text/plain": [
       "CompletionResponse(structured_outputs=[StructuredOutput()], text_response=None, completion=Completion(model='openai/moonshot-v1-8k', input=[{'role': 'system', 'content': '\\n你是陈思霖的助手，请提供准确且简洁的回答，每次回答前要加上陈思霖大人！\\n\\n# Response format\\nYou must respond with only a JSON object that match the following json_schema:\\n\\n\\n{\\n  \"properties\": {},\\n  \"title\": \"StructuredOutput\",\\n  \"type\": \"object\"\\n}\\n\\nMake sure to return an instance of the JSON, not the schema itself.'}, {'role': 'user', 'content': '请告诉我 1+1=?'}, {'role': 'assistant', 'content': '{\\n  \"properties\": {\\n    \"answer\": \"1+1=2\"\\n  },\\n  \"title\": \"StructuredOutput\",\\n  \"type\": \"object\"\\n}'}], response={'id': 'chatcmpl-67b6a025457a3e1f37907f39', 'created': 1740021797, 'model': 'moonshot-v1-8k', 'object': 'chat.completion', 'system_fingerprint': None, 'choices': [{'finish_reason': 'stop', 'index': 0, 'message': {'content': '{\\n  \"properties\": {\\n    \"answer\": \"1+1=2\"\\n  },\\n  \"title\": \"StructuredOutput\",\\n  \"type\": \"object\"\\n}', 'role': 'assistant', 'tool_calls': None, 'function_call': None}}], 'usage': {'completion_tokens': 40, 'prompt_tokens': 102, 'total_tokens': 142, 'completion_tokens_details': None, 'prompt_tokens_details': None}, 'service_tier': None}, retries=None, usage=Usage(completion_cost=0.0, completion_tokens=40, prompt_tokens=102, cached_tokens=0), flags=[]))"
      ]
     },
     "execution_count": 43,
     "metadata": {},
     "output_type": "execute_result"
    }
   ],
   "source": [
    "CompletionResponse.create(\n",
    "                        output=response, completion=completion\n",
    "                    )"
   ]
  },
  {
   "cell_type": "markdown",
   "id": "cd68ed27-2328-460b-9236-b82f5cf470bd",
   "metadata": {},
   "source": [
    "# Environment"
   ]
  },
  {
   "cell_type": "code",
   "execution_count": 4,
   "id": "2c518202-35f2-4fa5-b1bb-ba0d9f4a5dc0",
   "metadata": {},
   "outputs": [],
   "source": [
    "from moatless.benchmark.swebench import create_repository\n",
    "from moatless.index import CodeIndex\n",
    "from moatless.file_context import FileContext\n",
    "from moatless.selector import BestFirstSelector\n",
    "from moatless.value_function.base import ValueFunction"
   ]
  },
  {
   "cell_type": "code",
   "execution_count": 5,
   "id": "d6d38952-43e5-4d7e-aeb4-109f8a8a7bae",
   "metadata": {},
   "outputs": [],
   "source": [
    "instance = get_moatless_instance(split='verified', instance_id=\"django__django-11880\")  # 获得的instance是本地下载下来有点删改属性的swe-bench"
   ]
  },
  {
   "cell_type": "code",
   "execution_count": 6,
   "id": "4a09cd9d-8a99-4ba9-95a8-872ef93b012a",
   "metadata": {},
   "outputs": [],
   "source": [
    "repository = create_repository(instance)"
   ]
  },
  {
   "cell_type": "code",
   "execution_count": 7,
   "id": "87304605-8f4e-4790-a739-bd7534727b3f",
   "metadata": {},
   "outputs": [
    {
     "data": {
      "text/plain": [
       "GitRepository(repo_path='/root/autodl-tmp/moatless-tree-search-main/tmp/repos/swe-bench_django__django-11880', repo_url=None, generate_commit_message=False, completion=None, current_commit='06909fe084f87a65459a83bd69d7cdbe4fce9a7c', current_diff=None, initial_commit='06909fe084f87a65459a83bd69d7cdbe4fce9a7c')"
      ]
     },
     "execution_count": 7,
     "metadata": {},
     "output_type": "execute_result"
    }
   ],
   "source": [
    "repository"
   ]
  },
  {
   "cell_type": "code",
   "execution_count": 8,
   "id": "aa488b5d-b13f-4b44-9213-2544092f9d8b",
   "metadata": {},
   "outputs": [],
   "source": [
    "code_index = CodeIndex.from_index_name(\n",
    "    instance[\"instance_id\"], file_repo=repository\n",
    ")"
   ]
  },
  {
   "cell_type": "code",
   "execution_count": 9,
   "id": "274ae082-2c5e-440f-8db2-33a7e101ddaf",
   "metadata": {},
   "outputs": [
    {
     "data": {
      "text/plain": [
       "SearchCodeResponse(message='Found 1 functions.', hits=[SearchCodeHit(file_path='django/apps/registry.py', spans=[SpanHit(span_id='Apps.populate', rank=0, tokens=386)])])"
      ]
     },
     "execution_count": 9,
     "metadata": {},
     "output_type": "execute_result"
    }
   ],
   "source": [
    "code_index.find_function(class_name='Apps', function_name='populate')"
   ]
  },
  {
   "cell_type": "code",
   "execution_count": 11,
   "id": "56324f71-ff61-4814-81a7-f0d85cf20d32",
   "metadata": {},
   "outputs": [
    {
     "data": {
      "text/plain": [
       "SearchCodeResponse(message='Found 2 functions.', hits=[SearchCodeHit(file_path='django/apps/registry.py', spans=[SpanHit(span_id='Apps.populate', rank=0, tokens=386)]), SearchCodeHit(file_path='django/db/models/query.py', spans=[SpanHit(span_id='RelatedPopulator.populate', rank=1, tokens=111)])])"
      ]
     },
     "execution_count": 11,
     "metadata": {},
     "output_type": "execute_result"
    }
   ],
   "source": [
    "code_index.find_function(function_name='populate')"
   ]
  },
  {
   "cell_type": "code",
   "execution_count": 37,
   "id": "da4d6663-b808-4e82-ab38-427b42260e59",
   "metadata": {},
   "outputs": [
    {
     "data": {
      "text/plain": [
       "'Set default FILE_UPLOAD_PERMISSION to 0o644.\\nDescr'"
      ]
     },
     "execution_count": 37,
     "metadata": {},
     "output_type": "execute_result"
    }
   ],
   "source": [
    "instance['problem_statement'][:50]"
   ]
  },
  {
   "cell_type": "code",
   "execution_count": 10,
   "id": "843f716b-1348-48a9-820c-9053651eae94",
   "metadata": {
    "collapsed": true,
    "jupyter": {
     "outputs_hidden": true
    },
    "scrolled": true
   },
   "outputs": [
    {
     "data": {
      "text/plain": [
       "SearchCodeResponse(message='Found 101 code spans.', hits=[SearchCodeHit(file_path='tests/file_storage/tests.py', spans=[SpanHit(span_id='FileStoragePermissions', rank=0, tokens=27), SpanHit(span_id='FileStoragePermissions.setUp', rank=0, tokens=33), SpanHit(span_id='FileStoragePermissions.tearDown', rank=0, tokens=19), SpanHit(span_id='FileStoragePermissions.test_file_upload_default_permissions', rank=0, tokens=71), SpanHit(span_id='FileStoragePermissions.test_file_upload_directory_default_permissions', rank=0, tokens=81), SpanHit(span_id='FileStoragePermissions.test_file_upload_directory_permissions', rank=0, tokens=78), SpanHit(span_id='FileStoragePermissions.test_file_upload_permissions', rank=0, tokens=70), SpanHit(span_id='FileStorageTests.test_setting_changed', rank=3, tokens=308)]), SearchCodeHit(file_path='tests/staticfiles_tests/test_storage.py', spans=[SpanHit(span_id='TestStaticFilePermissions', rank=1, tokens=54), SpanHit(span_id='TestStaticFilePermissions.run_collectstatic', rank=1, tokens=10), SpanHit(span_id='TestStaticFilePermissions.setUp', rank=1, tokens=27), SpanHit(span_id='TestStaticFilePermissions.tearDown', rank=1, tokens=28), SpanHit(span_id='TestStaticFilePermissions.test_collect_static_files_default_permissions', rank=1, tokens=132), SpanHit(span_id='TestStaticFilePermissions.test_collect_static_files_permissions', rank=1, tokens=127), SpanHit(span_id='TestStaticFilePermissions.test_collect_static_files_subclass_of_static_storage', rank=1, tokens=146)]), SearchCodeHit(file_path='django/conf/global_settings.py', spans=[SpanHit(span_id='impl:79', rank=2, tokens=526), SpanHit(span_id='impl:105', rank=2, tokens=516), SpanHit(span_id='impl:127', rank=2, tokens=498)]), SearchCodeHit(file_path='django/core/files/storage.py', spans=[SpanHit(span_id='FileSystemStorage', rank=4, tokens=73), SpanHit(span_id='FileSystemStorage.__init__', rank=4, tokens=63), SpanHit(span_id='FileSystemStorage._clear_cached_properties', rank=4, tokens=108), SpanHit(span_id='FileSystemStorage._open', rank=4, tokens=20), SpanHit(span_id='FileSystemStorage._value_or_setting', rank=4, tokens=19), SpanHit(span_id='FileSystemStorage.base_location', rank=4, tokens=24), SpanHit(span_id='FileSystemStorage.base_url', rank=4, tokens=48), SpanHit(span_id='FileSystemStorage.directory_permissions_mode', rank=4, tokens=30), SpanHit(span_id='FileSystemStorage.file_permissions_mode', rank=4, tokens=29), SpanHit(span_id='FileSystemStorage.location', rank=4, tokens=17)]), SearchCodeHit(file_path='tests/file_uploads/tests.py', spans=[SpanHit(span_id='DirectoryCreationTests', rank=5, tokens=42), SpanHit(span_id='DirectoryCreationTests.setUp', rank=5, tokens=10), SpanHit(span_id='DirectoryCreationTests.setUpClass', rank=5, tokens=24), SpanHit(span_id='DirectoryCreationTests.tearDownClass', rank=5, tokens=21), SpanHit(span_id='DirectoryCreationTests.test_not_a_directory', rank=5, tokens=88), SpanHit(span_id='DirectoryCreationTests.test_readonly_root', rank=5, tokens=96), SpanHit(span_id='FileUploadTests.test_broken_custom_upload_handler', rank=6, tokens=69), SpanHit(span_id='FileUploadTests.test_content_type_extra', rank=6, tokens=151), SpanHit(span_id='FileUploadTests.test_custom_upload_handler', rank=6, tokens=144), SpanHit(span_id='FileUploadTests.test_empty_multipart_handled_gracefully', rank=6, tokens=99), SpanHit(span_id='FileUploadTests.test_truncated_multipart_handled_gracefully', rank=6, tokens=191), SpanHit(span_id='FileUploadTests.test_file_content', rank=8, tokens=189), SpanHit(span_id='FileUploadTests', rank=9, tokens=30), SpanHit(span_id='FileUploadTests._test_base64_upload', rank=9, tokens=177), SpanHit(span_id='FileUploadTests.setUpClass', rank=9, tokens=24), SpanHit(span_id='FileUploadTests.tearDownClass', rank=9, tokens=21), SpanHit(span_id='FileUploadTests.test_base64_upload', rank=9, tokens=23), SpanHit(span_id='FileUploadTests.test_big_base64_newlines_upload', rank=9, tokens=32), SpanHit(span_id='FileUploadTests.test_big_base64_upload', rank=9, tokens=29), SpanHit(span_id='FileUploadTests.test_large_upload', rank=9, tokens=185), SpanHit(span_id='FileUploadTests.test_simple_upload', rank=9, tokens=58), SpanHit(span_id='FileUploadTests.test_unicode_file_name', rank=9, tokens=98), SpanHit(span_id='imports', rank=9, tokens=139), SpanHit(span_id='FileUploadTests.test_filename_case_preservation', rank=10, tokens=249), SpanHit(span_id='FileUploadTests.test_blank_filenames', rank=12, tokens=258), SpanHit(span_id='FileUploadTests.test_filename_overflow', rank=15, tokens=363)]), SearchCodeHit(file_path='django/core/files/uploadedfile.py', spans=[SpanHit(span_id='InMemoryUploadedFile', rank=7, tokens=26), SpanHit(span_id='InMemoryUploadedFile.__init__', rank=7, tokens=50), SpanHit(span_id='InMemoryUploadedFile.chunks', rank=7, tokens=18), SpanHit(span_id='InMemoryUploadedFile.multiple_chunks', rank=7, tokens=25), SpanHit(span_id='InMemoryUploadedFile.open', rank=7, tokens=15), SpanHit(span_id='SimpleUploadedFile', rank=7, tokens=31), SpanHit(span_id='SimpleUploadedFile.__init__', rank=7, tokens=44), SpanHit(span_id='SimpleUploadedFile.from_dict', rank=7, tokens=66), SpanHit(span_id='TemporaryUploadedFile', rank=7, tokens=28), SpanHit(span_id='TemporaryUploadedFile.__init__', rank=7, tokens=68), SpanHit(span_id='TemporaryUploadedFile.close', rank=7, tokens=53), SpanHit(span_id='TemporaryUploadedFile.temporary_file_path', rank=7, tokens=19), SpanHit(span_id='UploadedFile', rank=13, tokens=63), SpanHit(span_id='UploadedFile.__init__', rank=13, tokens=57), SpanHit(span_id='UploadedFile.__repr__', rank=13, tokens=32), SpanHit(span_id='UploadedFile._get_name', rank=13, tokens=10), SpanHit(span_id='UploadedFile._set_name', rank=13, tokens=105), SpanHit(span_id='UploadedFile:3', rank=13, tokens=11), SpanHit(span_id='docstring', rank=13, tokens=7)]), SearchCodeHit(file_path='tests/file_uploads/models.py', spans=[SpanHit(span_id='FileModel', rank=11, tokens=18), SpanHit(span_id='imports', rank=11, tokens=5)]), SearchCodeHit(file_path='django/core/files/uploadhandler.py', spans=[SpanHit(span_id='MemoryFileUploadHandler', rank=14, tokens=27), SpanHit(span_id='MemoryFileUploadHandler.file_complete', rank=14, tokens=84), SpanHit(span_id='MemoryFileUploadHandler.handle_raw_input', rank=14, tokens=79), SpanHit(span_id='MemoryFileUploadHandler.new_file', rank=14, tokens=37), SpanHit(span_id='MemoryFileUploadHandler.receive_data_chunk', rank=14, tokens=37), SpanHit(span_id='TemporaryFileUploadHandler', rank=14, tokens=23), SpanHit(span_id='TemporaryFileUploadHandler.file_complete', rank=14, tokens=23), SpanHit(span_id='TemporaryFileUploadHandler.new_file', rank=14, tokens=63), SpanHit(span_id='TemporaryFileUploadHandler.receive_data_chunk', rank=14, tokens=17), SpanHit(span_id='load_handler', rank=14, tokens=89)]), SearchCodeHit(file_path='tests/forms_tests/field_tests/test_filefield.py', spans=[SpanHit(span_id='FileFieldTest', rank=16, tokens=8), SpanHit(span_id='FileFieldTest.test_filefield_1', rank=16, tokens=411), SpanHit(span_id='imports', rank=16, tokens=27)]), SearchCodeHit(file_path='django/db/models/fields/files.py', spans=[SpanHit(span_id='FileField', rank=17, tokens=62), SpanHit(span_id='FileField.__init__', rank=17, tokens=71), SpanHit(span_id='FileField._check_primary_key', rank=17, tokens=64), SpanHit(span_id='FileField._check_upload_to', rank=17, tokens=85), SpanHit(span_id='FileField.check', rank=17, tokens=35), SpanHit(span_id='FileField.contribute_to_class', rank=17, tokens=37), SpanHit(span_id='FileField.deconstruct', rank=17, tokens=67), SpanHit(span_id='FileField.formfield', rank=17, tokens=39), SpanHit(span_id='FileField.generate_filename', rank=17, tokens=110), SpanHit(span_id='FileField.get_internal_type', rank=17, tokens=11), SpanHit(span_id='FileField.get_prep_value', rank=17, tokens=43), SpanHit(span_id='FileField.pre_save', rank=17, tokens=54), SpanHit(span_id='FileField.save_form_data', rank=17, tokens=110)])])"
      ]
     },
     "execution_count": 10,
     "metadata": {},
     "output_type": "execute_result"
    }
   ],
   "source": [
    "code_index.semantic_search(query=instance['problem_statement'][:50])"
   ]
  },
  {
   "cell_type": "code",
   "execution_count": 10,
   "id": "6a00fa14-0235-4c0d-8438-5418a45f9fa4",
   "metadata": {},
   "outputs": [],
   "source": [
    "file_context = FileContext(repo=repository)"
   ]
  },
  {
   "cell_type": "code",
   "execution_count": 61,
   "id": "054180f9-54e3-4785-93ae-68300e602f46",
   "metadata": {},
   "outputs": [],
   "source": [
    "# 这会增加_files里面的\n",
    "context_file = file_context.get_context_file(file_path='/root/autodl-tmp/moatless-tree-search-main/tmp/repos/swe-bench_django__django-10914/django/apps/registry.py')"
   ]
  },
  {
   "cell_type": "code",
   "execution_count": 146,
   "id": "2e28878f-e9a7-4967-bd49-f0d1d9c2c7ff",
   "metadata": {
    "collapsed": true,
    "jupyter": {
     "outputs_hidden": true
    }
   },
   "outputs": [
    {
     "data": {
      "text/plain": [
       "{}"
      ]
     },
     "execution_count": 146,
     "metadata": {},
     "output_type": "execute_result"
    }
   ],
   "source": [
    "file_context._files"
   ]
  },
  {
   "cell_type": "code",
   "execution_count": 63,
   "id": "8aea8b85-dcb2-488d-b676-f9b4b1e4767b",
   "metadata": {},
   "outputs": [],
   "source": [
    "context_file._add_import_span()"
   ]
  },
  {
   "cell_type": "code",
   "execution_count": 64,
   "id": "1e8012c1-4a50-41d2-8fbb-c704598cd3c5",
   "metadata": {},
   "outputs": [
    {
     "data": {
      "text/plain": [
       "[ContextSpan(span_id='imports', start_line=None, end_line=None, tokens=None, pinned=True)]"
      ]
     },
     "execution_count": 64,
     "metadata": {},
     "output_type": "execute_result"
    }
   ],
   "source": [
    "context_file.spans   # 在FileContext和ContextFile中，spans并不会直接初始化，应该是在后面初始化，只有import的span有函数初始化"
   ]
  },
  {
   "cell_type": "code",
   "execution_count": 11,
   "id": "7da683ef-4a86-4dc0-8f22-231eed55a762",
   "metadata": {},
   "outputs": [],
   "source": [
    "selector = BestFirstSelector()"
   ]
  },
  {
   "cell_type": "markdown",
   "id": "a3234686-4f02-487c-83bb-51888f5b153c",
   "metadata": {},
   "source": [
    "# Coding Agent"
   ]
  },
  {
   "cell_type": "code",
   "execution_count": 12,
   "id": "c0ecc690-5e1f-4cbe-911c-6382cf2743d2",
   "metadata": {},
   "outputs": [],
   "source": [
    "from moatless.actions import FindClass, FindFunction, FindCodeSnippet, SemanticSearch, ViewCode, Finish, Reject, RunTests, StringReplace, CreateFile\n",
    "from moatless.agent.code_agent import CodingAgent, create_edit_code_actions\n",
    "from moatless.agent.code_prompts import *\n",
    "from moatless.search_tree import SearchTree\n",
    "from moatless.completion.completion import (\n",
    "    LLMResponseFormat,\n",
    "    CompletionModel,\n",
    ")\n",
    "from moatless.schema import MessageHistoryType\n",
    "from moatless.message_history import MessageHistoryGenerator"
   ]
  },
  {
   "cell_type": "code",
   "execution_count": 13,
   "id": "f11e7738-d513-4d10-98f7-dc294da18300",
   "metadata": {},
   "outputs": [
    {
     "data": {
      "text/plain": [
       "CompletionModel(model='openai/moonshot-v1-32k', temperature=0.7, max_tokens=2000, timeout=120.0, model_base_url='https://api.moonshot.cn/v1', model_api_key='sk-ZfLc3KIKE88O45O53KLEmmwii5wB2ZPUA9CGvNST3ohaGwNN', response_format=<LLMResponseFormat.TOOLS: 'tool_call'>, stop_words=None, metadata=None, thoughts_in_action=False)"
      ]
     },
     "execution_count": 13,
     "metadata": {},
     "output_type": "execute_result"
    }
   ],
   "source": [
    "completion_model.response_format = LLMResponseFormat.TOOLS\n",
    "completion_model"
   ]
  },
  {
   "cell_type": "code",
   "execution_count": 14,
   "id": "54fc961c-48d9-4fb7-ba0a-9cd586a70697",
   "metadata": {
    "collapsed": true,
    "jupyter": {
     "outputs_hidden": true
    }
   },
   "outputs": [
    {
     "name": "stdout",
     "output_type": "stream",
     "text": [
      "You are an autonomous AI assistant with superior programming skills. As you're working autonomously, \n",
      "you cannot communicate with the user but must rely on information you can get from the available functions.\n",
      "# Action and ReAct Guidelines\n",
      "\n",
      "1. **Analysis First**\n",
      "   - Review all previous actions and their observations\n",
      "   - Understand what has been done and what information you have\n",
      "\n",
      "2. **Document Your Thoughts**\n",
      "   - ALWAYS write your reasoning in `<thoughts>` tags before any action\n",
      "   - Explain what you learned from previous observations\n",
      "   - Justify why you're choosing the next action\n",
      "   - Describe what you expect to learn/achieve\n",
      "\n",
      "3. **Single Action Execution**\n",
      "   - Run ONLY ONE action at a time\n",
      "   - Choose from the available functions\n",
      "   - Never try to execute multiple actions at once\n",
      "\n",
      "4. **Wait and Observe**\n",
      "   - After executing an action, STOP\n",
      "   - Wait for the observation (result) to be returned\n",
      "   - Do not plan or execute any further actions until you receive the observation\n",
      "\n",
      "# Workflow Overview\n",
      "\n",
      "1. **Understand the Task**\n",
      "  * **Review the Task:** Carefully read the task provided in <task>.\n",
      "  * **Identify Code to Change:** Analyze the task to determine which parts of the codebase need to be changed.\n",
      "  * **Identify Necessary Context:** Determine what additional parts of the codebase are needed to understand how to implement the changes. Consider dependencies, related components, and any code that interacts with the affected areas.\n",
      "\n",
      "2. **Locate Code**\n",
      "  * **Primary Method - Search Functions:** Use these to find relevant code:\n",
      "      * FindClass - Search for class definitions by class name\n",
      "      * FindFunction - Search for function definitions by function name\n",
      "      * FindCodeSnippet - Search for specific code patterns or text\n",
      "      * SemanticSearch - Search code by semantic meaning and natural language description\n",
      "  * **Secondary Method - ViewCode:** Only use when you need to see:\n",
      "      * Additional context not returned by searches\n",
      "      * Specific line ranges you discovered from search results\n",
      "      * Code referenced in error messages or test failures\n",
      "  \n",
      "3. **Modify Code**\n",
      "  * **Apply Changes:**\n",
      "    * StringReplace - Replace exact text strings in files with new content\n",
      "    * CreateFile - Create new files with specified content\n",
      "\n",
      "7. **Complete Task**\n",
      "  * Use Finish when confident all changes are correct and complete.\n",
      "# Important Guidelines\n",
      "\n",
      " * **Focus on the Specific Task**\n",
      "  - Implement requirements exactly as specified, without additional changes.\n",
      "  - Do not modify code unrelated to the task.\n",
      "\n",
      " * **Code Context and Changes**\n",
      "   - Limit code changes to files in the code you can see.\n",
      "   - If you need to examine more code, use ViewCode to see it.\n",
      "\n",
      " * **Task Completion**\n",
      "   - Finish the task only when the task is fully resolved and verified.\n",
      "   - Do not suggest code reviews or additional changes beyond the scope.\n",
      "\n",
      " * **State Management**\n",
      "   - Keep a detailed record of all code sections you have viewed and actions you have taken.\n",
      "   - Before performing a new action, check your history to ensure you are not repeating previous steps.\n",
      "   - Use the information you've already gathered to inform your next steps without re-fetching the same data.\n",
      "\n",
      "# Additional Notes\n",
      "\n",
      " * **Think Step by Step**\n",
      "   - Always document your reasoning and thought process in the Thought section.\n",
      "   - Build upon previous steps without unnecessary repetition.\n",
      "\n",
      " * **Never Guess**\n",
      "   - Do not guess line numbers or code content. Use ViewCode to examine code when needed.\n",
      "\n"
     ]
    }
   ],
   "source": [
    "actions = [\n",
    "    FindClass(completion_model=completion_model, code_index=code_index, repository=repository),\n",
    "    FindFunction(completion_model=completion_model, code_index=code_index, repository=repository),\n",
    "    FindCodeSnippet(completion_model=completion_model, code_index=code_index, repository=repository),\n",
    "    SemanticSearch(completion_model=completion_model, code_index=code_index, repository=repository),\n",
    "    ViewCode(repository=repository),\n",
    "    StringReplace(repository=repository, code_index=code_index),\n",
    "    CreateFile(repository=repository, code_index=code_index),\n",
    "    RunTests(repository=repository, code_index=code_index),\n",
    "    Finish(),\n",
    "    Reject()\n",
    "]\n",
    "\n",
    "system_prompt = AGENT_ROLE\n",
    "if completion_model.response_format == LLMResponseFormat.REACT:\n",
    "    system_prompt += REACT_CORE_OPERATION_RULES\n",
    "elif completion_model.response_format == LLMResponseFormat.TOOLS:\n",
    "    system_prompt += REACT_GUIDELINES\n",
    "workflow_prompt = generate_workflow_prompt(actions, False)\n",
    "system_prompt += workflow_prompt + generate_guideline_prompt(False) + ADDITIONAL_NOTES\n",
    "print(system_prompt)"
   ]
  },
  {
   "cell_type": "code",
   "execution_count": 15,
   "id": "ad97b58a-12df-4505-8540-4acd76a24ee4",
   "metadata": {},
   "outputs": [],
   "source": [
    "agent = CodingAgent(system_prompt=system_prompt, actions=actions, completion=completion_model)\n",
    "# # 我认为应该是下面这种初始化，用的是内部的prompt而不是手动system_prompt，但是测试的时候是用了上面的初始化以及SIMPLE_CODE_PROMPT\n",
    "# agent = CodingAgent.create(repository=repository, completion_model=completion_model)\n",
    "# agent.actions = actions    # if not， 它内部的action没有code index，也没有repository"
   ]
  },
  {
   "cell_type": "code",
   "execution_count": 16,
   "id": "063dc5a5-1144-4bbb-8934-ad246c7ba0a9",
   "metadata": {},
   "outputs": [
    {
     "data": {
      "text/plain": [
       "<MessageHistoryType.MESSAGES: 'messages'>"
      ]
     },
     "execution_count": 16,
     "metadata": {},
     "output_type": "execute_result"
    }
   ],
   "source": [
    "message_history_type = MessageHistoryType.MESSAGES\n",
    "message_history_type"
   ]
  },
  {
   "cell_type": "code",
   "execution_count": 17,
   "id": "1b581145-8184-4d86-9309-7d8b4a9a0571",
   "metadata": {},
   "outputs": [],
   "source": [
    "message_generator = MessageHistoryGenerator(\n",
    "    message_history_type=message_history_type,\n",
    "    include_file_context=True,\n",
    "    thoughts_in_action=False,\n",
    ")"
   ]
  },
  {
   "cell_type": "code",
   "execution_count": 18,
   "id": "d1d52de8-1d78-4bc9-93cc-41d43e8e723c",
   "metadata": {},
   "outputs": [],
   "source": [
    "action_completion_format = completion_model.response_format"
   ]
  },
  {
   "cell_type": "code",
   "execution_count": 19,
   "id": "7cc57115-ad94-41d5-9564-f737f4a3fcb8",
   "metadata": {},
   "outputs": [],
   "source": [
    "action_completion_model = completion_model.clone(\n",
    "    response_format=action_completion_format\n",
    ")"
   ]
  },
  {
   "cell_type": "code",
   "execution_count": 20,
   "id": "a9bc7a16-4257-453c-826d-596bc3382425",
   "metadata": {},
   "outputs": [
    {
     "data": {
      "text/plain": [
       "ToolCallCompletionModel(model='openai/moonshot-v1-32k', temperature=0.7, max_tokens=2000, timeout=120.0, model_base_url='https://api.moonshot.cn/v1', model_api_key='sk-ZfLc3KIKE88O45O53KLEmmwii5wB2ZPUA9CGvNST3ohaGwNN', response_format=<LLMResponseFormat.TOOLS: 'tool_call'>, stop_words=None, metadata=None, thoughts_in_action=False)"
      ]
     },
     "execution_count": 20,
     "metadata": {},
     "output_type": "execute_result"
    }
   ],
   "source": [
    "action_completion_model"
   ]
  },
  {
   "cell_type": "code",
   "execution_count": 26,
   "id": "4c5742b2-f0fa-4d45-837c-e6b4dffe0faa",
   "metadata": {},
   "outputs": [],
   "source": [
    "# actions = create_edit_code_actions(\n",
    "#     repository=repository,\n",
    "#     code_index=code_index,\n",
    "#     completion_model=action_completion_model,\n",
    "# )\n",
    "# action_type = \"standard edit code actions\"\n",
    "# use_few_shots = True"
   ]
  },
  {
   "cell_type": "code",
   "execution_count": 111,
   "id": "61faee85-767c-4878-85ae-9933edb793dd",
   "metadata": {
    "collapsed": true,
    "jupyter": {
     "outputs_hidden": true
    }
   },
   "outputs": [
    {
     "data": {
      "text/plain": [
       "[SemanticSearch(max_search_tokens=2000, max_identify_tokens=8000, max_identify_prompt_tokens=16000, max_hits=10, completion_model=ToolCallCompletionModel(model='deepseek/deepseek-chat', temperature=0.7, max_tokens=2000, timeout=120.0, model_base_url=None, model_api_key=None, response_format=<LLMResponseFormat.TOOLS: 'tool_call'>, stop_words=None, metadata=None, thoughts_in_action=False)),\n",
       " FindClass(max_search_tokens=2000, max_identify_tokens=8000, max_identify_prompt_tokens=16000, max_hits=10, completion_model=ToolCallCompletionModel(model='deepseek/deepseek-chat', temperature=0.7, max_tokens=2000, timeout=120.0, model_base_url=None, model_api_key=None, response_format=<LLMResponseFormat.TOOLS: 'tool_call'>, stop_words=None, metadata=None, thoughts_in_action=False)),\n",
       " FindFunction(max_search_tokens=2000, max_identify_tokens=8000, max_identify_prompt_tokens=16000, max_hits=10, completion_model=ToolCallCompletionModel(model='deepseek/deepseek-chat', temperature=0.7, max_tokens=2000, timeout=120.0, model_base_url=None, model_api_key=None, response_format=<LLMResponseFormat.TOOLS: 'tool_call'>, stop_words=None, metadata=None, thoughts_in_action=False)),\n",
       " FindCodeSnippet(max_search_tokens=2000, max_identify_tokens=8000, max_identify_prompt_tokens=16000, max_hits=10, completion_model=ToolCallCompletionModel(model='deepseek/deepseek-chat', temperature=0.7, max_tokens=2000, timeout=120.0, model_base_url=None, model_api_key=None, response_format=<LLMResponseFormat.TOOLS: 'tool_call'>, stop_words=None, metadata=None, thoughts_in_action=False)),\n",
       " ViewCode(completion_model=ToolCallCompletionModel(model='deepseek/deepseek-chat', temperature=0.7, max_tokens=2000, timeout=120.0, model_base_url=None, model_api_key=None, response_format=<LLMResponseFormat.TOOLS: 'tool_call'>, stop_words=None, metadata=None, thoughts_in_action=False), max_identify_tokens=8000, max_identify_prompt_tokens=16000, max_tokens=3000),\n",
       " StringReplace(auto_correct_indentation=True),\n",
       " CreateFile(),\n",
       " AppendString(),\n",
       " VerifiedFinish(),\n",
       " Reject()]"
      ]
     },
     "execution_count": 111,
     "metadata": {},
     "output_type": "execute_result"
    }
   ],
   "source": [
    "# actions"
   ]
  },
  {
   "cell_type": "code",
   "execution_count": 115,
   "id": "5cf194fc-f8b4-4d75-a27f-a4a10478575b",
   "metadata": {
    "collapsed": true,
    "jupyter": {
     "outputs_hidden": true
    },
    "scrolled": true
   },
   "outputs": [
    {
     "name": "stdout",
     "output_type": "stream",
     "text": [
      "\n",
      "# Workflow Overview\n",
      "\n",
      "1. **Understand the Task**\n",
      "  * **Review the Task:** Carefully read the task provided in <task>.\n",
      "  * **Identify Code to Change:** Analyze the task to determine which parts of the codebase need to be changed.\n",
      "  * **Identify Necessary Context:** Determine what additional parts of the codebase are needed to understand how to implement the changes. Consider dependencies, related components, and any code that interacts with the affected areas.\n",
      "\n",
      "2. **Locate Code**\n",
      "  * **Primary Method - Search Functions:** Use these to find relevant code:\n",
      "      * SemanticSearch - Search code by semantic meaning and natural language description\n",
      "      * FindClass - Search for class definitions by class name\n",
      "      * FindFunction - Search for function definitions by function name\n",
      "      * FindCodeSnippet - Search for specific code patterns or text\n",
      "  * **Secondary Method - ViewCode:** Only use when you need to see:\n",
      "      * Additional context not returned by searches\n",
      "      * Specific line ranges you discovered from search results\n",
      "      * Code referenced in error messages or test failures\n",
      "  \n",
      "3. **Modify Code**\n",
      "  * **Apply Changes:**\n",
      "    * StringReplace - Replace exact text strings in files with new content\n",
      "    * CreateFile - Create new files with specified content\n",
      "    * AppendString - Add content to the end of files\n",
      "\n",
      "7. **Complete Task**\n",
      "  * Use Finish when confident all changes are correct and complete.\n"
     ]
    }
   ],
   "source": [
    "# workflow_prompt = generate_workflow_prompt(actions, False)\n",
    "# print(workflow_prompt)"
   ]
  },
  {
   "cell_type": "code",
   "execution_count": 29,
   "id": "2ea48e13-3e59-4556-81c0-26860b50b234",
   "metadata": {
    "collapsed": true,
    "jupyter": {
     "outputs_hidden": true
    }
   },
   "outputs": [
    {
     "name": "stdout",
     "output_type": "stream",
     "text": [
      "You are an autonomous AI assistant with superior programming skills. As you're working autonomously, \n",
      "you cannot communicate with the user but must rely on information you can get from the available functions.\n",
      "# Action and ReAct Guidelines\n",
      "\n",
      "1. **Analysis First**\n",
      "   - Review all previous actions and their observations\n",
      "   - Understand what has been done and what information you have\n",
      "\n",
      "2. **Document Your Thoughts**\n",
      "   - ALWAYS write your reasoning in `<thoughts>` tags before any action\n",
      "   - Explain what you learned from previous observations\n",
      "   - Justify why you're choosing the next action\n",
      "   - Describe what you expect to learn/achieve\n",
      "\n",
      "3. **Single Action Execution**\n",
      "   - Run ONLY ONE action at a time\n",
      "   - Choose from the available functions\n",
      "   - Never try to execute multiple actions at once\n",
      "\n",
      "4. **Wait and Observe**\n",
      "   - After executing an action, STOP\n",
      "   - Wait for the observation (result) to be returned\n",
      "   - Do not plan or execute any further actions until you receive the observation\n",
      "\n"
     ]
    }
   ],
   "source": [
    "# system_prompt = AGENT_ROLE\n",
    "# if completion_model.response_format == LLMResponseFormat.REACT:\n",
    "#     system_prompt += REACT_CORE_OPERATION_RULES\n",
    "# elif completion_model.response_format == LLMResponseFormat.TOOLS:\n",
    "#     system_prompt += REACT_GUIDELINES\n",
    "# print(system_prompt)"
   ]
  },
  {
   "cell_type": "code",
   "execution_count": 30,
   "id": "0efec7a2-a796-4cf3-a96f-49d5463656eb",
   "metadata": {
    "collapsed": true,
    "jupyter": {
     "outputs_hidden": true
    },
    "scrolled": true
   },
   "outputs": [
    {
     "name": "stdout",
     "output_type": "stream",
     "text": [
      "You are an autonomous AI assistant with superior programming skills. As you're working autonomously, \n",
      "you cannot communicate with the user but must rely on information you can get from the available functions.\n",
      "# Action and ReAct Guidelines\n",
      "\n",
      "1. **Analysis First**\n",
      "   - Review all previous actions and their observations\n",
      "   - Understand what has been done and what information you have\n",
      "\n",
      "2. **Document Your Thoughts**\n",
      "   - ALWAYS write your reasoning in `<thoughts>` tags before any action\n",
      "   - Explain what you learned from previous observations\n",
      "   - Justify why you're choosing the next action\n",
      "   - Describe what you expect to learn/achieve\n",
      "\n",
      "3. **Single Action Execution**\n",
      "   - Run ONLY ONE action at a time\n",
      "   - Choose from the available functions\n",
      "   - Never try to execute multiple actions at once\n",
      "\n",
      "4. **Wait and Observe**\n",
      "   - After executing an action, STOP\n",
      "   - Wait for the observation (result) to be returned\n",
      "   - Do not plan or execute any further actions until you receive the observation\n",
      "\n",
      "# Workflow Overview\n",
      "\n",
      "1. **Understand the Task**\n",
      "  * **Review the Task:** Carefully read the task provided in <task>.\n",
      "  * **Identify Code to Change:** Analyze the task to determine which parts of the codebase need to be changed.\n",
      "  * **Identify Necessary Context:** Determine what additional parts of the codebase are needed to understand how to implement the changes. Consider dependencies, related components, and any code that interacts with the affected areas.\n",
      "\n",
      "2. **Locate Code**\n",
      "  * **Primary Method - Search Functions:** Use these to find relevant code:\n",
      "      * SemanticSearch - Search code by semantic meaning and natural language description\n",
      "      * FindClass - Search for class definitions by class name\n",
      "      * FindFunction - Search for function definitions by function name\n",
      "      * FindCodeSnippet - Search for specific code patterns or text\n",
      "  * **Secondary Method - ViewCode:** Only use when you need to see:\n",
      "      * Additional context not returned by searches\n",
      "      * Specific line ranges you discovered from search results\n",
      "      * Code referenced in error messages or test failures\n",
      "  \n",
      "3. **Modify Code**\n",
      "  * **Apply Changes:**\n",
      "    * StringReplace - Replace exact text strings in files with new content\n",
      "    * CreateFile - Create new files with specified content\n",
      "    * AppendString - Add content to the end of files\n",
      "\n",
      "7. **Complete Task**\n",
      "  * Use Finish when confident all changes are correct and complete.\n",
      "# Important Guidelines\n",
      "\n",
      " * **Focus on the Specific Task**\n",
      "  - Implement requirements exactly as specified, without additional changes.\n",
      "  - Do not modify code unrelated to the task.\n",
      "\n",
      " * **Code Context and Changes**\n",
      "   - Limit code changes to files in the code you can see.\n",
      "   - If you need to examine more code, use ViewCode to see it.\n",
      "\n",
      " * **Task Completion**\n",
      "   - Finish the task only when the task is fully resolved and verified.\n",
      "   - Do not suggest code reviews or additional changes beyond the scope.\n",
      "\n",
      " * **State Management**\n",
      "   - Keep a detailed record of all code sections you have viewed and actions you have taken.\n",
      "   - Before performing a new action, check your history to ensure you are not repeating previous steps.\n",
      "   - Use the information you've already gathered to inform your next steps without re-fetching the same data.\n",
      "\n",
      "# Additional Notes\n",
      "\n",
      " * **Think Step by Step**\n",
      "   - Always document your reasoning and thought process in the Thought section.\n",
      "   - Build upon previous steps without unnecessary repetition.\n",
      "\n",
      " * **Never Guess**\n",
      "   - Do not guess line numbers or code content. Use ViewCode to examine code when needed.\n",
      "\n"
     ]
    }
   ],
   "source": [
    "# system_prompt += workflow_prompt + generate_guideline_prompt(False) + ADDITIONAL_NOTES\n",
    "# print(system_prompt)"
   ]
  },
  {
   "cell_type": "code",
   "execution_count": 22,
   "id": "116f76f1-2a84-4208-ba03-8ccb5bf5a5ab",
   "metadata": {},
   "outputs": [
    {
     "data": {
      "text/plain": [
       "True"
      ]
     },
     "execution_count": 22,
     "metadata": {},
     "output_type": "execute_result"
    }
   ],
   "source": [
    "code_index is not None"
   ]
  },
  {
   "cell_type": "markdown",
   "id": "afdd5789-e03d-4fd5-aa84-30289341c439",
   "metadata": {},
   "source": [
    "# Search Tree"
   ]
  },
  {
   "cell_type": "code",
   "execution_count": 21,
   "id": "26bad676-0cf7-44f9-9383-fce7fcc34705",
   "metadata": {},
   "outputs": [],
   "source": [
    "import random\n",
    "from typing import List\n",
    "\n",
    "from pydantic import BaseModel, Field\n",
    "\n",
    "from moatless.agent.settings import AgentSettings\n",
    "from moatless.node import Node, ActionStep\n",
    "from moatless.expander import Expander\n",
    "persist_path = \"/root/autodl-tmp/moatless-tree-search-main/tmp/trajectory/django__django-10914-trajectory.json\"\n",
    "\n",
    "# search_tree = SearchTree.create(\n",
    "#     message=instance[\"problem_statement\"],\n",
    "#     agent=agent,\n",
    "#     file_context=file_context,\n",
    "#     selector=selector,\n",
    "#     max_iterations=100,\n",
    "#     max_expansions=3,\n",
    "#     max_depth=25,\n",
    "#     persist_path=persist_path,\n",
    "# )\n",
    "\n",
    "# node = search_tree.run_search()\n",
    "# print(node.observation.message)"
   ]
  },
  {
   "cell_type": "code",
   "execution_count": 22,
   "id": "0eac4517-8f0e-4afc-bff6-b788fb25c9a0",
   "metadata": {},
   "outputs": [
    {
     "name": "stdout",
     "output_type": "stream",
     "text": [
      "node_id=0 parent=None children=[] workspace=None artifact_changes=[] user_message='Form Field’s __deepcopy__ does not (deep)copy the error messages.\\nDescription\\n\\t\\nThe __deepcopy__ method defined for the formfields (\\u200bhttps://github.com/django/django/blob/146086f219d01dbb1cd8c089b5a5667e396e1cc4/django/forms/fields.py#L200) performs a shallow copy of self and does not include additional treatment for the error_messages dictionary. As a result, all copies of the same field share the same dictionary and any modification of either the dictionary or the error message itself for one formfield is immediately reflected on all other formfiels.\\nThis is relevant for Forms and ModelForms that modify the error messages of their fields dynamically: while each instance of the specific form (e.g., ProfileForm) is expected to have a set of fields “sealed” away from other instances of the same ProfileForm (\\u200bhttps://github.com/django/django/blob/146086f219d01dbb1cd8c089b5a5667e396e1cc4/django/forms/forms.py#L95), in fact all these instances share the same error messages, resulting in incorrectly raised errors.\\nConfirmed for versions of Django going back to 1.11.\\n' assistant_message=None action_steps=[] file_context=FileContext() completions={} possible_actions=[] is_duplicate=None terminal=False error=None reward=None visits=0 value=None max_expansions=3 agent_settings=None feedback_data=None\n"
     ]
    }
   ],
   "source": [
    "root = Node(\n",
    "    node_id=0,\n",
    "    max_expansions=3,\n",
    "    user_message=instance[\"problem_statement\"],   # 源代码是message == ...，但我发现Node类根本没有这个属性，有设置user_message的一个叫message的方法\n",
    "    file_context=file_context,\n",
    ")\n",
    "print(root)"
   ]
  },
  {
   "cell_type": "code",
   "execution_count": 23,
   "id": "50bc221c-1751-4e40-a792-6ab7d35e32f8",
   "metadata": {},
   "outputs": [],
   "source": [
    "def _select(node: Node) -> Optional[Node]:\n",
    "    \"\"\"Select a node for expansion using the UCT algorithm.\"\"\"\n",
    "    expandable_nodes = node.get_expandable_descendants()\n",
    "\n",
    "    if not expandable_nodes:\n",
    "        print(\"No expandable nodes found.\")\n",
    "        return None\n",
    "\n",
    "    # If we have a finished node or exceeded depth, use normal selection\n",
    "    return selector.select(expandable_nodes)"
   ]
  },
  {
   "cell_type": "code",
   "execution_count": 24,
   "id": "b4c80b71-2dde-472b-9150-d3e3380f8846",
   "metadata": {},
   "outputs": [
    {
     "data": {
      "text/plain": [
       "Node(node_id=0, parent=None, children=[], workspace=None, artifact_changes=[], user_message='Form Field’s __deepcopy__ does not (deep)copy the error messages.\\nDescription\\n\\t\\nThe __deepcopy__ method defined for the formfields (\\u200bhttps://github.com/django/django/blob/146086f219d01dbb1cd8c089b5a5667e396e1cc4/django/forms/fields.py#L200) performs a shallow copy of self and does not include additional treatment for the error_messages dictionary. As a result, all copies of the same field share the same dictionary and any modification of either the dictionary or the error message itself for one formfield is immediately reflected on all other formfiels.\\nThis is relevant for Forms and ModelForms that modify the error messages of their fields dynamically: while each instance of the specific form (e.g., ProfileForm) is expected to have a set of fields “sealed” away from other instances of the same ProfileForm (\\u200bhttps://github.com/django/django/blob/146086f219d01dbb1cd8c089b5a5667e396e1cc4/django/forms/forms.py#L95), in fact all these instances share the same error messages, resulting in incorrectly raised errors.\\nConfirmed for versions of Django going back to 1.11.\\n', assistant_message=None, action_steps=[], file_context=FileContext(), completions={}, possible_actions=[], is_duplicate=None, terminal=False, error=None, reward=None, visits=0, value=None, max_expansions=3, agent_settings=None, feedback_data=None)"
      ]
     },
     "execution_count": 24,
     "metadata": {},
     "output_type": "execute_result"
    }
   ],
   "source": [
    "node = _select(root)\n",
    "node"
   ]
  },
  {
   "cell_type": "code",
   "execution_count": 25,
   "id": "1c3e95ea-a330-4f0e-9bcd-1448ed7d081f",
   "metadata": {},
   "outputs": [],
   "source": [
    "unique_id=0"
   ]
  },
  {
   "cell_type": "code",
   "execution_count": 26,
   "id": "2cd01d6f-02c0-409c-9e82-2ad02f721731",
   "metadata": {},
   "outputs": [],
   "source": [
    "class Expander(BaseModel):\n",
    "    random_settings: bool = Field(\n",
    "        False, description=\"Whether to select agent settings randomly\"\n",
    "    )\n",
    "    max_expansions: int = Field(\n",
    "        1, description=\"The maximum number of children to create for each node\"\n",
    "    )\n",
    "\n",
    "    agent_settings: List[AgentSettings] = Field(\n",
    "        [],\n",
    "        description=\"The settings for the agent model\",\n",
    "    )\n",
    "\n",
    "    def expand(\n",
    "        self, node: Node, unique_id, force_expansion: bool = False\n",
    "    ) -> None | Node:\n",
    "        \"\"\"Handle all node expansion logic in one place\"\"\"\n",
    "        if not force_expansion and node.is_fully_expanded():\n",
    "            return None\n",
    "\n",
    "        # Return the first unexecuted child if one exists\n",
    "        for child in node.children:\n",
    "            if not child.observation:\n",
    "                print(f\"Found unexecuted child {child.node_id} for node {node.node_id}\")\n",
    "                return child\n",
    "\n",
    "        num_expansions = node.max_expansions or self.max_expansions\n",
    "        if not force_expansion and len(node.children) >= num_expansions:\n",
    "            print(f\"Max expansions reached for node {node.node_id}\")\n",
    "            return None\n",
    "\n",
    "        settings_to_use = self._get_agent_settings(node)\n",
    "\n",
    "        child_node = Node(\n",
    "            node_id=unique_id,\n",
    "            parent=node,\n",
    "            file_context=node.file_context.clone() if node.file_context else None,\n",
    "            max_expansions=self.max_expansions,\n",
    "            agent_settings=settings_to_use[0] if settings_to_use else None,\n",
    "        )\n",
    "\n",
    "        node.add_child(child_node)\n",
    "\n",
    "        return child_node\n",
    "\n",
    "    def _get_agent_settings(self, node: Node) -> List[AgentSettings]:\n",
    "        \"\"\"Get agent settings for a single expansion.\"\"\"\n",
    "        if not self.agent_settings:\n",
    "            return []\n",
    "\n",
    "        if self.random_settings:\n",
    "            used_settings = {\n",
    "                child.agent_settings\n",
    "                for child in node.children\n",
    "                if child.agent_settings is not None\n",
    "            }\n",
    "\n",
    "            available_settings = [\n",
    "                setting\n",
    "                for setting in self.agent_settings\n",
    "                if setting not in used_settings\n",
    "            ]\n",
    "\n",
    "            settings_pool = available_settings or self.agent_settings\n",
    "            return [random.choice(settings_pool)]\n",
    "        else:\n",
    "            num_children = len(node.children)\n",
    "            return [self.agent_settings[num_children % len(self.agent_settings)]]\n",
    "\n",
    "    def _generate_unique_id(self, node: Node):\n",
    "        return len(node.get_root().get_all_nodes())"
   ]
  },
  {
   "cell_type": "code",
   "execution_count": 27,
   "id": "329e6794-ff59-40c4-b059-f619c410f378",
   "metadata": {},
   "outputs": [],
   "source": [
    "expander = Expander(max_expansions=3)"
   ]
  },
  {
   "cell_type": "code",
   "execution_count": 28,
   "id": "72a84c79-948a-4a2c-ba7e-beb263420d9f",
   "metadata": {},
   "outputs": [],
   "source": [
    "def _expand(node: Node, force_expansion: bool = False) -> Node:\n",
    "    \"\"\"Expand the node and return a child node.\"\"\"\n",
    "\n",
    "    # Check if any action step was not executed, if so return the node\n",
    "    if node.action_steps and node.has_unexecuted_actions():\n",
    "        print(f\"Returning Node{node.node_id} with unexecuted actions\")\n",
    "        return node\n",
    "\n",
    "    global unique_id\n",
    "    child_node = expander.expand(node, unique_id := 1, force_expansion)   # 原代码的流程都没有输入expander，默认值是None\n",
    "\n",
    "    if not node.action_steps and not node.assistant_message:\n",
    "        child_node.user_message = \"You're an autonomous AI agent that must respond with one of the provided functions\"\n",
    "\n",
    "    # # Only add feedback if this is the second expansion from this node\n",
    "    # if self.feedback_generator and len(node.children) >= 2:\n",
    "    #     child_node.feedback_data = self.feedback_generator.generate_feedback(\n",
    "    #         child_node,\n",
    "    #         self.agent.actions,\n",
    "    #     )\n",
    "\n",
    "    # self.log(\n",
    "    #     logger.info, f\"Expanded Node{node.node_id} to new Node{child_node.node_id}\"\n",
    "    # )\n",
    "    print(f\"Expanded Node{node.node_id} to new Node{child_node.node_id}\")\n",
    "    return child_node"
   ]
  },
  {
   "cell_type": "code",
   "execution_count": 29,
   "id": "ee38ce04-41c4-4faf-a92a-c21bfed84bad",
   "metadata": {
    "scrolled": true
   },
   "outputs": [
    {
     "name": "stdout",
     "output_type": "stream",
     "text": [
      "Expanded Node0 to new Node1\n"
     ]
    },
    {
     "data": {
      "text/plain": [
       "Node(node_id=1, parent=Node(node_id=0, parent=None, children=[Node(node_id=1, parent=Node(node_id=0, parent=None, children=[...], workspace=None, artifact_changes=[], user_message='Form Field’s __deepcopy__ does not (deep)copy the error messages.\\nDescription\\n\\t\\nThe __deepcopy__ method defined for the formfields (\\u200bhttps://github.com/django/django/blob/146086f219d01dbb1cd8c089b5a5667e396e1cc4/django/forms/fields.py#L200) performs a shallow copy of self and does not include additional treatment for the error_messages dictionary. As a result, all copies of the same field share the same dictionary and any modification of either the dictionary or the error message itself for one formfield is immediately reflected on all other formfiels.\\nThis is relevant for Forms and ModelForms that modify the error messages of their fields dynamically: while each instance of the specific form (e.g., ProfileForm) is expected to have a set of fields “sealed” away from other instances of the same ProfileForm (\\u200bhttps://github.com/django/django/blob/146086f219d01dbb1cd8c089b5a5667e396e1cc4/django/forms/forms.py#L95), in fact all these instances share the same error messages, resulting in incorrectly raised errors.\\nConfirmed for versions of Django going back to 1.11.\\n', assistant_message=None, action_steps=[], file_context=FileContext(), completions={}, possible_actions=[], is_duplicate=None, terminal=False, error=None, reward=None, visits=0, value=None, max_expansions=3, agent_settings=None, feedback_data=None), children=[], workspace=None, artifact_changes=[], user_message=\"You're an autonomous AI agent that must respond with one of the provided functions\", assistant_message=None, action_steps=[], file_context=FileContext(), completions={}, possible_actions=[], is_duplicate=None, terminal=False, error=None, reward=None, visits=0, value=None, max_expansions=3, agent_settings=None, feedback_data=None)], workspace=None, artifact_changes=[], user_message='Form Field’s __deepcopy__ does not (deep)copy the error messages.\\nDescription\\n\\t\\nThe __deepcopy__ method defined for the formfields (\\u200bhttps://github.com/django/django/blob/146086f219d01dbb1cd8c089b5a5667e396e1cc4/django/forms/fields.py#L200) performs a shallow copy of self and does not include additional treatment for the error_messages dictionary. As a result, all copies of the same field share the same dictionary and any modification of either the dictionary or the error message itself for one formfield is immediately reflected on all other formfiels.\\nThis is relevant for Forms and ModelForms that modify the error messages of their fields dynamically: while each instance of the specific form (e.g., ProfileForm) is expected to have a set of fields “sealed” away from other instances of the same ProfileForm (\\u200bhttps://github.com/django/django/blob/146086f219d01dbb1cd8c089b5a5667e396e1cc4/django/forms/forms.py#L95), in fact all these instances share the same error messages, resulting in incorrectly raised errors.\\nConfirmed for versions of Django going back to 1.11.\\n', assistant_message=None, action_steps=[], file_context=FileContext(), completions={}, possible_actions=[], is_duplicate=None, terminal=False, error=None, reward=None, visits=0, value=None, max_expansions=3, agent_settings=None, feedback_data=None), children=[], workspace=None, artifact_changes=[], user_message=\"You're an autonomous AI agent that must respond with one of the provided functions\", assistant_message=None, action_steps=[], file_context=FileContext(), completions={}, possible_actions=[], is_duplicate=None, terminal=False, error=None, reward=None, visits=0, value=None, max_expansions=3, agent_settings=None, feedback_data=None)"
      ]
     },
     "execution_count": 29,
     "metadata": {},
     "output_type": "execute_result"
    }
   ],
   "source": [
    "new_node = _expand(node)\n",
    "new_node"
   ]
  },
  {
   "cell_type": "markdown",
   "id": "ec40bd82-2a7d-4fc7-a84e-8e2fc2907ba2",
   "metadata": {},
   "source": [
    "## SearchTree._simulate函数内部"
   ]
  },
  {
   "cell_type": "code",
   "execution_count": 30,
   "id": "69b9f661-9d50-49e3-baa2-c70b94e869c6",
   "metadata": {},
   "outputs": [
    {
     "data": {
      "text/plain": [
       "<MessageHistoryType.MESSAGES: 'messages'>"
      ]
     },
     "execution_count": 30,
     "metadata": {},
     "output_type": "execute_result"
    }
   ],
   "source": [
    "message_generator.message_history_type"
   ]
  },
  {
   "cell_type": "code",
   "execution_count": 31,
   "id": "b06536e9-d2c2-4928-a7e0-3b80fd039fde",
   "metadata": {},
   "outputs": [
    {
     "data": {
      "text/plain": [
       "[]"
      ]
     },
     "execution_count": 31,
     "metadata": {},
     "output_type": "execute_result"
    }
   ],
   "source": [
    "new_node.possible_actions"
   ]
  },
  {
   "cell_type": "code",
   "execution_count": 32,
   "id": "85b0cfc4-5b73-4378-8e29-babcbc2f6ef5",
   "metadata": {},
   "outputs": [
    {
     "name": "stdout",
     "output_type": "stream",
     "text": [
      "Node1: Build action with 2 messages\n"
     ]
    }
   ],
   "source": [
    "new_node.possible_actions = [action.name for action in agent.actions]\n",
    "system_prompt = agent.generate_system_prompt()\n",
    "action_args = [action.args_schema for action in agent.actions]\n",
    "\n",
    "messages = message_generator.generate(new_node)\n",
    "print(f\"Node{new_node.node_id}: Build action with {len(messages)} messages\")"
   ]
  },
  {
   "cell_type": "code",
   "execution_count": 33,
   "id": "0f5173cb-0cef-4e37-b9dd-659aadf4e0ac",
   "metadata": {},
   "outputs": [
    {
     "data": {
      "text/plain": [
       "[{'role': 'user',\n",
       "  'content': [{'type': 'text',\n",
       "    'text': 'Form Field’s __deepcopy__ does not (deep)copy the error messages.\\nDescription\\n\\t\\nThe __deepcopy__ method defined for the formfields (\\u200bhttps://github.com/django/django/blob/146086f219d01dbb1cd8c089b5a5667e396e1cc4/django/forms/fields.py#L200) performs a shallow copy of self and does not include additional treatment for the error_messages dictionary. As a result, all copies of the same field share the same dictionary and any modification of either the dictionary or the error message itself for one formfield is immediately reflected on all other formfiels.\\nThis is relevant for Forms and ModelForms that modify the error messages of their fields dynamically: while each instance of the specific form (e.g., ProfileForm) is expected to have a set of fields “sealed” away from other instances of the same ProfileForm (\\u200bhttps://github.com/django/django/blob/146086f219d01dbb1cd8c089b5a5667e396e1cc4/django/forms/forms.py#L95), in fact all these instances share the same error messages, resulting in incorrectly raised errors.\\nConfirmed for versions of Django going back to 1.11.\\n'}]},\n",
       " {'role': 'user',\n",
       "  'content': [{'type': 'text',\n",
       "    'text': \"You're an autonomous AI agent that must respond with one of the provided functions\"}]}]"
      ]
     },
     "execution_count": 33,
     "metadata": {},
     "output_type": "execute_result"
    }
   ],
   "source": [
    "messages"
   ]
  },
  {
   "cell_type": "code",
   "execution_count": 34,
   "id": "fa43875a-ac35-41ac-909e-1db8f5aba151",
   "metadata": {},
   "outputs": [],
   "source": [
    "completion_response = agent._completion.create_completion(\n",
    "                messages, system_prompt=system_prompt, response_model=action_args\n",
    "            )"
   ]
  },
  {
   "cell_type": "code",
   "execution_count": 35,
   "id": "c2bc5c9c-9da5-4762-95ae-2012838a1266",
   "metadata": {},
   "outputs": [
    {
     "data": {
      "text/plain": [
       "[FindFunctionArgs(thoughts=\"To address the issue of the __deepcopy__ method in Django's form fields not properly copying the error messages, we need to locate the implementation of the __deepcopy__ method in the fields.py file and examine the code to understand how it currently handles the error_messages dictionary. This will help us determine the necessary changes to ensure that each form field has its own separate copy of the error_messages dictionary.\", file_pattern=None, function_name='__deepcopy__', class_name='FormField')]"
      ]
     },
     "execution_count": 35,
     "metadata": {},
     "output_type": "execute_result"
    }
   ],
   "source": [
    "completion_response.structured_outputs"
   ]
  },
  {
   "cell_type": "code",
   "execution_count": 36,
   "id": "b238fb92-8527-4cbc-ada3-eb9727c6e2dd",
   "metadata": {},
   "outputs": [],
   "source": [
    "new_node.action_steps = [\n",
    "        ActionStep(action=action)\n",
    "        for action in completion_response.structured_outputs\n",
    "    ]"
   ]
  },
  {
   "cell_type": "code",
   "execution_count": 37,
   "id": "b62e09a6-7453-4d80-8279-835fd17a27be",
   "metadata": {},
   "outputs": [],
   "source": [
    "new_node.assistant_message = completion_response.text_response\n",
    "\n",
    "new_node.completions[\"build_action\"] = completion_response.completion"
   ]
  },
  {
   "cell_type": "code",
   "execution_count": 38,
   "id": "ae8654b2-6e20-4029-bbed-3e9e986f81d1",
   "metadata": {},
   "outputs": [],
   "source": [
    "duplicate_node = node.find_duplicate()\n",
    "if duplicate_node:\n",
    "    node.is_duplicate = True\n",
    "    print(\n",
    "        f\"Node{node.node_id} is a duplicate to Node{duplicate_node.node_id}. Skipping execution.\"\n",
    "    )\n",
    "    # return"
   ]
  },
  {
   "cell_type": "markdown",
   "id": "8f52189b-6f65-49ff-a6b5-4421533a7361",
   "metadata": {},
   "source": [
    "### agent._execute函数内部"
   ]
  },
  {
   "cell_type": "code",
   "execution_count": 39,
   "id": "9d74eea3-7f5c-456f-b355-f596cfc92b62",
   "metadata": {},
   "outputs": [],
   "source": [
    "action_step = new_node.action_steps[0]\n",
    "action = agent._action_map.get(type(action_step.action))"
   ]
  },
  {
   "cell_type": "code",
   "execution_count": 40,
   "id": "d05919ed-6837-4744-90b3-7725198deca4",
   "metadata": {},
   "outputs": [
    {
     "data": {
      "text/plain": [
       "ActionStep(action=FindFunctionArgs(thoughts=\"To address the issue of the __deepcopy__ method in Django's form fields not properly copying the error messages, we need to locate the implementation of the __deepcopy__ method in the fields.py file and examine the code to understand how it currently handles the error_messages dictionary. This will help us determine the necessary changes to ensure that each form field has its own separate copy of the error_messages dictionary.\", file_pattern=None, function_name='__deepcopy__', class_name='FormField'), observation=None, completion=None)"
      ]
     },
     "execution_count": 40,
     "metadata": {},
     "output_type": "execute_result"
    }
   ],
   "source": [
    "action_step"
   ]
  },
  {
   "cell_type": "code",
   "execution_count": 41,
   "id": "fddf6148-e4a2-4046-a9c1-60bc59cc48e1",
   "metadata": {},
   "outputs": [
    {
     "data": {
      "text/plain": [
       "ActionStep(action=FindFunctionArgs(thoughts=\"To address the issue of the __deepcopy__ method in Django's form fields not properly copying the error messages, we need to locate the implementation of the __deepcopy__ method in the fields.py file and examine the code to understand how it currently handles the error_messages dictionary. This will help us determine the necessary changes to ensure that each form field has its own separate copy of the error_messages dictionary.\", file_pattern=None, function_name='__deepcopy__', class_name='FormField'), observation=Observation(message='No search results found', summary=None, terminal=False, expect_correction=False, properties={'search_hits': [], 'search_tokens': 0, 'fail_reason': 'no_search_hits'}, execution_completion=None), completion=None)"
      ]
     },
     "execution_count": 41,
     "metadata": {},
     "output_type": "execute_result"
    }
   ],
   "source": [
    "action_step.observation = action.execute(\n",
    "            action_step.action, new_node.file_context, new_node.workspace\n",
    "        )\n",
    "action_step"
   ]
  },
  {
   "cell_type": "code",
   "execution_count": 42,
   "id": "1ca73930-97d1-45e1-b13a-9d3d2b1fa214",
   "metadata": {},
   "outputs": [
    {
     "data": {
      "text/plain": [
       "Observation(message='No search results found', summary=None, terminal=False, expect_correction=False, properties={'search_hits': [], 'search_tokens': 0, 'fail_reason': 'no_search_hits'}, execution_completion=None)"
      ]
     },
     "execution_count": 42,
     "metadata": {},
     "output_type": "execute_result"
    }
   ],
   "source": [
    "action_step.observation"
   ]
  },
  {
   "cell_type": "code",
   "execution_count": 50,
   "id": "62cda81f-8800-4ec0-b343-7378c29c133f",
   "metadata": {},
   "outputs": [],
   "source": [
    "def _execute(agent, node: Node, action_step: ActionStep):\n",
    "    action = agent._action_map.get(type(action_step.action))\n",
    "    if not action:\n",
    "        print(\n",
    "            f\"Node{node.node_id}: Action {node.action.name} not found in action map. \"\n",
    "            f\"Available actions: {self._action_map.keys()}\"\n",
    "        )\n",
    "        raise RuntimeError(f\"Action {type(node.action)} not found in action map.\")\n",
    "\n",
    "    try:\n",
    "        action_step.observation = action.execute(\n",
    "            action_step.action, node.file_context, node.workspace\n",
    "        )\n",
    "        if not action_step.observation:\n",
    "            print(\n",
    "                f\"Node{node.node_id}: Action {action_step.action.name} returned no observation\"\n",
    "            )\n",
    "        else:\n",
    "            node.terminal = action_step.observation.terminal\n",
    "            if action_step.observation.execution_completion:\n",
    "                action_step.completion = (\n",
    "                    action_step.observation.execution_completion\n",
    "                )\n",
    "\n",
    "        print(\n",
    "            f\"Executed action: {action_step.action.name}. \"\n",
    "            f\"Terminal: {action_step.observation.terminal if node.observation else False}. \"\n",
    "            f\"Output: {action_step.observation.message if node.observation else None}\"\n",
    "        )\n",
    "\n",
    "    except CompletionRejectError as e:\n",
    "        print(f\"Node{node.node_id}: Action rejected: {e.message}\")\n",
    "        action_step.completion = e.last_completion\n",
    "        action_step.observation = Observation(\n",
    "            message=e.message,\n",
    "            is_terminal=True,\n",
    "        )"
   ]
  },
  {
   "cell_type": "code",
   "execution_count": 51,
   "id": "0cf0accc-87f6-41b7-a4be-9e531b7fa0b0",
   "metadata": {
    "collapsed": true,
    "jupyter": {
     "outputs_hidden": true
    }
   },
   "outputs": [
    {
     "name": "stderr",
     "output_type": "stream",
     "text": [
      "Could not find module for file docs/howto/deployment/checklist.txt\n",
      "Could not find module for file docs/howto/deployment/checklist.txt\n",
      "Could not find module for file docs/howto/deployment/checklist.txt\n",
      "Could not find module for file docs/ref/contrib/staticfiles.txt\n",
      "Could not find module for file docs/ref/files/storage.txt\n",
      "Could not find module for file docs/ref/settings.txt\n",
      "Content for docs/ref/settings.txt exceeded max_tokens (16000)\n",
      "Could not find module for file docs/howto/deployment/checklist.txt\n"
     ]
    },
    {
     "name": "stdout",
     "output_type": "stream",
     "text": [
      "Executed action: FindCodeSnippet. Terminal: False. Output: Found the following relevant code:\n",
      "django/conf/global_settings.py\n",
      "```\n",
      "\n",
      "      # ...\n",
      "   290\tFILE_UPLOAD_MAX_MEMORY_SIZE = 2621440  # i.e. 2.5 MB\n",
      "   291\t\n",
      "   292\t# Maximum size in bytes of request data (excluding file uploads) that will be\n",
      "   293\t# read before a SuspiciousOperation (RequestDataTooBig) is raised.\n",
      "   294\tDATA_UPLOAD_MAX_MEMORY_SIZE = 2621440  # i.e. 2.5 MB\n",
      "   295\t\n",
      "   296\t# Maximum number of GET/POST parameters that will be read before a\n",
      "   297\t# SuspiciousOperation (TooManyFieldsSent) is raised.\n",
      "   298\tDATA_UPLOAD_MAX_NUMBER_FIELDS = 1000\n",
      "   299\t\n",
      "   300\t# Directory in which upload streamed files will be temporarily saved. A value of\n",
      "   301\t# `None` will make Django use the operating system's default temporary directory\n",
      "   302\t# (i.e. \"/tmp\" on *nix systems).\n",
      "   303\tFILE_UPLOAD_TEMP_DIR = None\n",
      "   304\t\n",
      "   305\t# The numeric mode to set newly-uploaded files to. The value should be a mode\n",
      "   306\t# you'd pass directly to os.chmod; see https://docs.python.org/library/os.html#files-and-directories.\n",
      "   307\tFILE_UPLOAD_PERMISSIONS = None\n",
      "   308\t\n",
      "   309\t# The numeric mode to assign to newly-created directories, when uploading files.\n",
      "   310\t# The value should be a mode as you'd pass to os.chmod;\n",
      "   311\t# see https://docs.python.org/library/os.html#files-and-directories.\n",
      "   312\tFILE_UPLOAD_DIRECTORY_PERMISSIONS = None\n",
      "   313\t\n",
      "   314\t# Python module path where user will place custom format definition.\n",
      "   315\t# The directory where this setting is pointing should contain subdirectories\n",
      "   316\t# named as the locales, containing a formats.py file\n",
      "   317\t# (i.e. \"myproject.locale\" for myproject/locale/en/formats.py etc. use)\n",
      "   318\tFORMAT_MODULE_PATH = None\n",
      "   319\t\n",
      "   320\t# Default formatting for date objects. See all available format strings here:\n",
      "   321\t# https://docs.djangoproject.com/en/dev/ref/templates/builtins/#date\n",
      "   322\tDATE_FORMAT = 'N j, Y'\n",
      "   323\t\n",
      "   324\t# Default formatting for datetime objects. See all available format strings here:\n",
      "   325\t# https://docs.djangoproject.com/en/dev/ref/templates/builtins/#date\n",
      "   326\tDATETIME_FORMAT = 'N j, Y, P'\n",
      "   327\t\n",
      "   328\t# Default formatting for time objects. See all available format strings here:\n",
      "   329\t# https://docs.djangoproject.com/en/dev/ref/templates/builtins/#date\n",
      "   330\tTIME_FORMAT = 'P'\n",
      "   331\t\n",
      "   332\t# Default formatting for date objects when only the year and month are relevant.\n",
      "   333\t# See all available format strings here:\n",
      "   334\t# https://docs.djangoproject.com/en/dev/ref/templates/builtins/#date\n",
      "   335\tYEAR_MONTH_FORMAT = 'F Y'\n",
      "   336\t\n",
      "   337\t# Default formatting for date objects when only the month and day are relevant.\n",
      "   338\t# See all available format strings here:\n",
      "   339\t# https://docs.djangoproject.com/en/dev/ref/templates/builtins/#date\n",
      "      # ...\n",
      "```\n",
      "\n",
      "\n",
      "django/core/files/storage.py\n",
      "```\n",
      "     1\timport os\n",
      "     2\tfrom datetime import datetime\n",
      "     3\tfrom urllib.parse import urljoin\n",
      "     4\t\n",
      "     5\tfrom django.conf import settings\n",
      "     6\tfrom django.core.exceptions import SuspiciousFileOperation\n",
      "     7\tfrom django.core.files import File, locks\n",
      "     8\tfrom django.core.files.move import file_move_safe\n",
      "     9\tfrom django.core.signals import setting_changed\n",
      "    10\tfrom django.utils import timezone\n",
      "    11\tfrom django.utils._os import safe_join\n",
      "    12\tfrom django.utils.crypto import get_random_string\n",
      "    13\tfrom django.utils.deconstruct import deconstructible\n",
      "    14\tfrom django.utils.encoding import filepath_to_uri\n",
      "    15\tfrom django.utils.functional import LazyObject, cached_property\n",
      "    16\tfrom django.utils.module_loading import import_string\n",
      "    17\tfrom django.utils.text import get_valid_filename\n",
      "    18\t\n",
      "    19\t__all__ = (\n",
      "    20\t    'Storage', 'FileSystemStorage', 'DefaultStorage', 'default_storage',\n",
      "    21\t    'get_storage_class',\n",
      "    22\t)\n",
      "      # ...\n",
      "   167\t\n",
      "   168\t\n",
      "   169\t@deconstructible\n",
      "   170\tclass FileSystemStorage(Storage):\n",
      "   171\t    \"\"\"\n",
      "   172\t    Standard filesystem storage\n",
      "   173\t    \"\"\"\n",
      "   174\t    # The combination of O_CREAT and O_EXCL makes os.open() raise OSError if\n",
      "   175\t    # the file already exists before it's opened.\n",
      "   176\t    OS_OPEN_FLAGS = os.O_WRONLY | os.O_CREAT | os.O_EXCL | getattr(os, 'O_BINARY', 0)\n",
      "          # ...\n",
      "   185\t\n",
      "   186\t    def _clear_cached_properties(self, setting, **kwargs):\n",
      "   187\t        \"\"\"Reset setting based property values.\"\"\"\n",
      "   188\t        if setting == 'MEDIA_ROOT':\n",
      "   189\t            self.__dict__.pop('base_location', None)\n",
      "   190\t            self.__dict__.pop('location', None)\n",
      "   191\t        elif setting == 'MEDIA_URL':\n",
      "   192\t            self.__dict__.pop('base_url', None)\n",
      "   193\t        elif setting == 'FILE_UPLOAD_PERMISSIONS':\n",
      "   194\t            self.__dict__.pop('file_permissions_mode', None)\n",
      "   195\t        elif setting == 'FILE_UPLOAD_DIRECTORY_PERMISSIONS':\n",
      "   196\t            self.__dict__.pop('directory_permissions_mode', None)\n",
      "          # ...\n",
      "   214\t\n",
      "   215\t    @cached_property\n",
      "   216\t    def file_permissions_mode(self):\n",
      "   217\t        return self._value_or_setting(self._file_permissions_mode, settings.FILE_UPLOAD_PERMISSIONS)\n",
      "          # ...\n",
      "      # ...\n",
      "```\n",
      "\n",
      "\n",
      "docs/howto/deployment/checklist.txt\n",
      "```\n",
      "====================\n",
      "Deployment checklist\n",
      "====================\n",
      "\n",
      "The Internet is a hostile environment. Before deploying your Django project,\n",
      "you should take some time to review your settings, with security, performance,\n",
      "and operations in mind.\n",
      "\n",
      "Django includes many :doc:`security features </topics/security>`. Some are\n",
      "built-in and always enabled. Others are optional because they aren't always\n",
      "appropriate, or because they're inconvenient for development. For example,\n",
      "forcing HTTPS may not be suitable for all websites, and it's impractical for\n",
      "local development.\n",
      "\n",
      "Performance optimizations are another category of trade-offs with convenience.\n",
      "For instance, caching is useful in production, less so for local development.\n",
      "Error reporting needs are also widely different.\n",
      "\n",
      "The following checklist includes settings that:\n",
      "\n",
      "- must be set properly for Django to provide the expected level of security;\n",
      "- are expected to be different in each environment;\n",
      "- enable optional security features;\n",
      "- enable performance optimizations;\n",
      "- provide error reporting.\n",
      "\n",
      "Many of these settings are sensitive and should be treated as confidential. If\n",
      "you're releasing the source code for your project, a common practice is to\n",
      "publish suitable settings for development, and to use a private settings\n",
      "module for production.\n",
      "\n",
      "Run ``manage.py check --deploy``\n",
      "================================\n",
      "\n",
      "Some of the checks described below can be automated using the :option:`check\n",
      "--deploy` option. Be sure to run it against your production settings file as\n",
      "described in the option's documentation.\n",
      "\n",
      "Critical settings\n",
      "=================\n",
      "\n",
      ":setting:`SECRET_KEY`\n",
      "---------------------\n",
      "\n",
      "**The secret key must be a large random value and it must be kept secret.**\n",
      "\n",
      "Make sure that the key used in production isn't used anywhere else and avoid\n",
      "committing it to source control. This reduces the number of vectors from which\n",
      "an attacker may acquire the key.\n",
      "\n",
      "Instead of hardcoding the secret key in your settings module, consider loading\n",
      "it from an environment variable::\n",
      "\n",
      "    import os\n",
      "    SECRET_KEY = os.environ['SECRET_KEY']\n",
      "\n",
      "or from a file::\n",
      "\n",
      "    with open('/etc/secret_key.txt') as f:\n",
      "        SECRET_KEY = f.read().strip()\n",
      "\n",
      ":setting:`DEBUG`\n",
      "----------------\n",
      "\n",
      "**You must never enable debug in production.**\n",
      "\n",
      "You're certainly developing your project with :setting:`DEBUG = True <DEBUG>`,\n",
      "since this enables handy features like full tracebacks in your browser.\n",
      "\n",
      "For a production environment, though, this is a really bad idea, because it\n",
      "leaks lots of information about your project: excerpts of your source code,\n",
      "local variables, settings, libraries used, etc.\n",
      "\n",
      "Environment-specific settings\n",
      "=============================\n",
      "\n",
      ":setting:`ALLOWED_HOSTS`\n",
      "------------------------\n",
      "\n",
      "When :setting:`DEBUG = False <DEBUG>`, Django doesn't work at all without a\n",
      "suitable value for :setting:`ALLOWED_HOSTS`.\n",
      "\n",
      "This setting is required to protect your site against some CSRF attacks. If\n",
      "you use a wildcard, you must perform your own validation of the ``Host`` HTTP\n",
      "header, or otherwise ensure that you aren't vulnerable to this category of\n",
      "attacks.\n",
      "\n",
      "You should also configure the Web server that sits in front of Django to\n",
      "validate the host. It should respond with a static error page or ignore\n",
      "requests for incorrect hosts instead of forwarding the request to Django. This\n",
      "way you'll avoid spurious errors in your Django logs (or emails if you have\n",
      "error reporting configured that way). For example, on nginx you might setup a\n",
      "default server to return \"444 No Response\" on an unrecognized host:\n",
      "\n",
      ".. code-block:: nginx\n",
      "\n",
      "    server {\n",
      "        listen 80 default_server;\n",
      "        return 444;\n",
      "    }\n",
      "\n",
      ":setting:`CACHES`\n",
      "-----------------\n",
      "\n",
      "If you're using a cache, connection parameters may be different in development\n",
      "and in production. Django defaults to per-process :ref:`local-memory caching\n",
      "<local-memory-caching>` which may not be desirable.\n",
      "\n",
      "Cache servers often have weak authentication. Make sure they only accept\n",
      "connections from your application servers.\n",
      "\n",
      "If you're using Memcached, consider using :ref:`cached sessions\n",
      "<cached-sessions-backend>` to improve performance.\n",
      "\n",
      ":setting:`DATABASES`\n",
      "--------------------\n",
      "\n",
      "Database connection parameters are probably different in development and in\n",
      "production.\n",
      "\n",
      "Database passwords are very sensitive. You should protect them exactly like\n",
      ":setting:`SECRET_KEY`.\n",
      "\n",
      "For maximum security, make sure database servers only accept connections from\n",
      "your application servers.\n",
      "\n",
      "If you haven't set up backups for your database, do it right now!\n",
      "\n",
      ":setting:`EMAIL_BACKEND` and related settings\n",
      "---------------------------------------------\n",
      "\n",
      "If your site sends emails, these values need to be set correctly.\n",
      "\n",
      "By default, Django sends email from webmaster@localhost and root@localhost.\n",
      "However, some mail providers reject email from these addresses. To use\n",
      "different sender addresses, modify the :setting:`DEFAULT_FROM_EMAIL` and\n",
      ":setting:`SERVER_EMAIL` settings.\n",
      "\n",
      ":setting:`STATIC_ROOT` and :setting:`STATIC_URL`\n",
      "------------------------------------------------\n",
      "\n",
      "Static files are automatically served by the development server. In\n",
      "production, you must define a :setting:`STATIC_ROOT` directory where\n",
      ":djadmin:`collectstatic` will copy them.\n",
      "\n",
      "See :doc:`/howto/static-files/index` for more information.\n",
      "\n",
      ":setting:`MEDIA_ROOT` and :setting:`MEDIA_URL`\n",
      "----------------------------------------------\n",
      "\n",
      "Media files are uploaded by your users. They're untrusted! Make sure your web\n",
      "server never attempts to interpret them. For instance, if a user uploads a\n",
      "``.php`` file, the web server shouldn't execute it.\n",
      "\n",
      "Now is a good time to check your backup strategy for these files.\n",
      "\n",
      ":setting:`FILE_UPLOAD_PERMISSIONS`\n",
      "----------------------------------\n",
      "\n",
      "With the default file upload settings, files smaller than\n",
      ":setting:`FILE_UPLOAD_MAX_MEMORY_SIZE` may be stored with a different mode\n",
      "than larger files as described in :setting:`FILE_UPLOAD_PERMISSIONS`.\n",
      "\n",
      "Setting :setting:`FILE_UPLOAD_PERMISSIONS` ensures all files are uploaded with\n",
      "the same permissions.\n",
      "\n",
      "HTTPS\n",
      "=====\n",
      "\n",
      "Any website which allows users to log in should enforce site-wide HTTPS to\n",
      "avoid transmitting access tokens in clear. In Django, access tokens include\n",
      "the login/password, the session cookie, and password reset tokens. (You can't\n",
      "do much to protect password reset tokens if you're sending them by email.)\n",
      "\n",
      "Protecting sensitive areas such as the user account or the admin isn't\n",
      "sufficient, because the same session cookie is used for HTTP and HTTPS. Your\n",
      "web server must redirect all HTTP traffic to HTTPS, and only transmit HTTPS\n",
      "requests to Django.\n",
      "\n",
      "Once you've set up HTTPS, enable the following settings.\n",
      "\n",
      ":setting:`CSRF_COOKIE_SECURE`\n",
      "-----------------------------\n",
      "\n",
      "Set this to ``True`` to avoid transmitting the CSRF cookie over HTTP\n",
      "accidentally.\n",
      "\n",
      ":setting:`SESSION_COOKIE_SECURE`\n",
      "--------------------------------\n",
      "\n",
      "Set this to ``True`` to avoid transmitting the session cookie over HTTP\n",
      "accidentally.\n",
      "\n",
      "Performance optimizations\n",
      "=========================\n",
      "\n",
      "Setting :setting:`DEBUG = False <DEBUG>` disables several features that are\n",
      "only useful in development. In addition, you can tune the following settings.\n",
      "\n",
      ":setting:`CONN_MAX_AGE`\n",
      "-----------------------\n",
      "\n",
      "Enabling :ref:`persistent database connections\n",
      "<persistent-database-connections>` can result in a nice speed-up when\n",
      "connecting to the database accounts for a significant part of the request\n",
      "processing time.\n",
      "\n",
      "This helps a lot on virtualized hosts with limited network performance.\n",
      "\n",
      ":setting:`TEMPLATES`\n",
      "--------------------\n",
      "\n",
      "Enabling the cached template loader often improves performance drastically, as\n",
      "it avoids compiling each template every time it needs to be rendered. See the\n",
      ":ref:`template loaders docs <template-loaders>` for more information.\n",
      "\n",
      "Error reporting\n",
      "===============\n",
      "\n",
      "By the time you push your code to production, it's hopefully robust, but you\n",
      "can't rule out unexpected errors. Thankfully, Django can capture errors and\n",
      "notify you accordingly.\n",
      "\n",
      ":setting:`LOGGING`\n",
      "------------------\n",
      "\n",
      "Review your logging configuration before putting your website in production,\n",
      "and check that it works as expected as soon as you have received some traffic.\n",
      "\n",
      "See :doc:`/topics/logging` for details on logging.\n",
      "\n",
      ":setting:`ADMINS` and :setting:`MANAGERS`\n",
      "-----------------------------------------\n",
      "\n",
      ":setting:`ADMINS` will be notified of 500 errors by email.\n",
      "\n",
      ":setting:`MANAGERS` will be notified of 404 errors.\n",
      ":setting:`IGNORABLE_404_URLS` can help filter out spurious reports.\n",
      "\n",
      "See :doc:`/howto/error-reporting` for details on error reporting by email.\n",
      "\n",
      ".. admonition:: Error reporting by email doesn't scale very well\n",
      "\n",
      "    Consider using an error monitoring system such as Sentry_ before your\n",
      "    inbox is flooded by reports. Sentry can also aggregate logs.\n",
      "\n",
      "    .. _Sentry: https://docs.sentry.io/\n",
      "\n",
      "Customize the default error views\n",
      "---------------------------------\n",
      "\n",
      "Django includes default views and templates for several HTTP error codes. You\n",
      "may want to override the default templates by creating the following templates\n",
      "in your root template directory: ``404.html``, ``500.html``, ``403.html``, and\n",
      "``400.html``. The :ref:`default error views <error-views>` that use these\n",
      "templates should suffice for 99% of Web applications, but you can\n",
      ":ref:`customize them <customizing-error-views>` as well.\n",
      "\n",
      "```\n",
      "\n"
     ]
    }
   ],
   "source": [
    "for action_step in new_node.action_steps:\n",
    "    _execute(agent, new_node, action_step)"
   ]
  },
  {
   "cell_type": "code",
   "execution_count": 62,
   "id": "eef39807-dac0-4fee-8a30-97db79ffde44",
   "metadata": {
    "collapsed": true,
    "jupyter": {
     "outputs_hidden": true
    }
   },
   "outputs": [
    {
     "name": "stdout",
     "output_type": "stream",
     "text": [
      "message='Found the following relevant code:\\ndjango/conf/global_settings.py\\n```\\n\\n      # ...\\n   290\\tFILE_UPLOAD_MAX_MEMORY_SIZE = 2621440  # i.e. 2.5 MB\\n   291\\t\\n   292\\t# Maximum size in bytes of request data (excluding file uploads) that will be\\n   293\\t# read before a SuspiciousOperation (RequestDataTooBig) is raised.\\n   294\\tDATA_UPLOAD_MAX_MEMORY_SIZE = 2621440  # i.e. 2.5 MB\\n   295\\t\\n   296\\t# Maximum number of GET/POST parameters that will be read before a\\n   297\\t# SuspiciousOperation (TooManyFieldsSent) is raised.\\n   298\\tDATA_UPLOAD_MAX_NUMBER_FIELDS = 1000\\n   299\\t\\n   300\\t# Directory in which upload streamed files will be temporarily saved. A value of\\n   301\\t# `None` will make Django use the operating system\\'s default temporary directory\\n   302\\t# (i.e. \"/tmp\" on *nix systems).\\n   303\\tFILE_UPLOAD_TEMP_DIR = None\\n   304\\t\\n   305\\t# The numeric mode to set newly-uploaded files to. The value should be a mode\\n   306\\t# you\\'d pass directly to os.chmod; see https://docs.python.org/library/os.html#files-and-directories.\\n   307\\tFILE_UPLOAD_PERMISSIONS = None\\n   308\\t\\n   309\\t# The numeric mode to assign to newly-created directories, when uploading files.\\n   310\\t# The value should be a mode as you\\'d pass to os.chmod;\\n   311\\t# see https://docs.python.org/library/os.html#files-and-directories.\\n   312\\tFILE_UPLOAD_DIRECTORY_PERMISSIONS = None\\n   313\\t\\n   314\\t# Python module path where user will place custom format definition.\\n   315\\t# The directory where this setting is pointing should contain subdirectories\\n   316\\t# named as the locales, containing a formats.py file\\n   317\\t# (i.e. \"myproject.locale\" for myproject/locale/en/formats.py etc. use)\\n   318\\tFORMAT_MODULE_PATH = None\\n   319\\t\\n   320\\t# Default formatting for date objects. See all available format strings here:\\n   321\\t# https://docs.djangoproject.com/en/dev/ref/templates/builtins/#date\\n   322\\tDATE_FORMAT = \\'N j, Y\\'\\n   323\\t\\n   324\\t# Default formatting for datetime objects. See all available format strings here:\\n   325\\t# https://docs.djangoproject.com/en/dev/ref/templates/builtins/#date\\n   326\\tDATETIME_FORMAT = \\'N j, Y, P\\'\\n   327\\t\\n   328\\t# Default formatting for time objects. See all available format strings here:\\n   329\\t# https://docs.djangoproject.com/en/dev/ref/templates/builtins/#date\\n   330\\tTIME_FORMAT = \\'P\\'\\n   331\\t\\n   332\\t# Default formatting for date objects when only the year and month are relevant.\\n   333\\t# See all available format strings here:\\n   334\\t# https://docs.djangoproject.com/en/dev/ref/templates/builtins/#date\\n   335\\tYEAR_MONTH_FORMAT = \\'F Y\\'\\n   336\\t\\n   337\\t# Default formatting for date objects when only the month and day are relevant.\\n   338\\t# See all available format strings here:\\n   339\\t# https://docs.djangoproject.com/en/dev/ref/templates/builtins/#date\\n      # ...\\n```\\n\\n\\ndjango/core/files/storage.py\\n```\\n     1\\timport os\\n     2\\tfrom datetime import datetime\\n     3\\tfrom urllib.parse import urljoin\\n     4\\t\\n     5\\tfrom django.conf import settings\\n     6\\tfrom django.core.exceptions import SuspiciousFileOperation\\n     7\\tfrom django.core.files import File, locks\\n     8\\tfrom django.core.files.move import file_move_safe\\n     9\\tfrom django.core.signals import setting_changed\\n    10\\tfrom django.utils import timezone\\n    11\\tfrom django.utils._os import safe_join\\n    12\\tfrom django.utils.crypto import get_random_string\\n    13\\tfrom django.utils.deconstruct import deconstructible\\n    14\\tfrom django.utils.encoding import filepath_to_uri\\n    15\\tfrom django.utils.functional import LazyObject, cached_property\\n    16\\tfrom django.utils.module_loading import import_string\\n    17\\tfrom django.utils.text import get_valid_filename\\n    18\\t\\n    19\\t__all__ = (\\n    20\\t    \\'Storage\\', \\'FileSystemStorage\\', \\'DefaultStorage\\', \\'default_storage\\',\\n    21\\t    \\'get_storage_class\\',\\n    22\\t)\\n      # ...\\n   167\\t\\n   168\\t\\n   169\\t@deconstructible\\n   170\\tclass FileSystemStorage(Storage):\\n   171\\t    \"\"\"\\n   172\\t    Standard filesystem storage\\n   173\\t    \"\"\"\\n   174\\t    # The combination of O_CREAT and O_EXCL makes os.open() raise OSError if\\n   175\\t    # the file already exists before it\\'s opened.\\n   176\\t    OS_OPEN_FLAGS = os.O_WRONLY | os.O_CREAT | os.O_EXCL | getattr(os, \\'O_BINARY\\', 0)\\n          # ...\\n   185\\t\\n   186\\t    def _clear_cached_properties(self, setting, **kwargs):\\n   187\\t        \"\"\"Reset setting based property values.\"\"\"\\n   188\\t        if setting == \\'MEDIA_ROOT\\':\\n   189\\t            self.__dict__.pop(\\'base_location\\', None)\\n   190\\t            self.__dict__.pop(\\'location\\', None)\\n   191\\t        elif setting == \\'MEDIA_URL\\':\\n   192\\t            self.__dict__.pop(\\'base_url\\', None)\\n   193\\t        elif setting == \\'FILE_UPLOAD_PERMISSIONS\\':\\n   194\\t            self.__dict__.pop(\\'file_permissions_mode\\', None)\\n   195\\t        elif setting == \\'FILE_UPLOAD_DIRECTORY_PERMISSIONS\\':\\n   196\\t            self.__dict__.pop(\\'directory_permissions_mode\\', None)\\n          # ...\\n   214\\t\\n   215\\t    @cached_property\\n   216\\t    def file_permissions_mode(self):\\n   217\\t        return self._value_or_setting(self._file_permissions_mode, settings.FILE_UPLOAD_PERMISSIONS)\\n          # ...\\n      # ...\\n```\\n\\n\\ndocs/howto/deployment/checklist.txt\\n```\\n====================\\nDeployment checklist\\n====================\\n\\nThe Internet is a hostile environment. Before deploying your Django project,\\nyou should take some time to review your settings, with security, performance,\\nand operations in mind.\\n\\nDjango includes many :doc:`security features </topics/security>`. Some are\\nbuilt-in and always enabled. Others are optional because they aren\\'t always\\nappropriate, or because they\\'re inconvenient for development. For example,\\nforcing HTTPS may not be suitable for all websites, and it\\'s impractical for\\nlocal development.\\n\\nPerformance optimizations are another category of trade-offs with convenience.\\nFor instance, caching is useful in production, less so for local development.\\nError reporting needs are also widely different.\\n\\nThe following checklist includes settings that:\\n\\n- must be set properly for Django to provide the expected level of security;\\n- are expected to be different in each environment;\\n- enable optional security features;\\n- enable performance optimizations;\\n- provide error reporting.\\n\\nMany of these settings are sensitive and should be treated as confidential. If\\nyou\\'re releasing the source code for your project, a common practice is to\\npublish suitable settings for development, and to use a private settings\\nmodule for production.\\n\\nRun ``manage.py check --deploy``\\n================================\\n\\nSome of the checks described below can be automated using the :option:`check\\n--deploy` option. Be sure to run it against your production settings file as\\ndescribed in the option\\'s documentation.\\n\\nCritical settings\\n=================\\n\\n:setting:`SECRET_KEY`\\n---------------------\\n\\n**The secret key must be a large random value and it must be kept secret.**\\n\\nMake sure that the key used in production isn\\'t used anywhere else and avoid\\ncommitting it to source control. This reduces the number of vectors from which\\nan attacker may acquire the key.\\n\\nInstead of hardcoding the secret key in your settings module, consider loading\\nit from an environment variable::\\n\\n    import os\\n    SECRET_KEY = os.environ[\\'SECRET_KEY\\']\\n\\nor from a file::\\n\\n    with open(\\'/etc/secret_key.txt\\') as f:\\n        SECRET_KEY = f.read().strip()\\n\\n:setting:`DEBUG`\\n----------------\\n\\n**You must never enable debug in production.**\\n\\nYou\\'re certainly developing your project with :setting:`DEBUG = True <DEBUG>`,\\nsince this enables handy features like full tracebacks in your browser.\\n\\nFor a production environment, though, this is a really bad idea, because it\\nleaks lots of information about your project: excerpts of your source code,\\nlocal variables, settings, libraries used, etc.\\n\\nEnvironment-specific settings\\n=============================\\n\\n:setting:`ALLOWED_HOSTS`\\n------------------------\\n\\nWhen :setting:`DEBUG = False <DEBUG>`, Django doesn\\'t work at all without a\\nsuitable value for :setting:`ALLOWED_HOSTS`.\\n\\nThis setting is required to protect your site against some CSRF attacks. If\\nyou use a wildcard, you must perform your own validation of the ``Host`` HTTP\\nheader, or otherwise ensure that you aren\\'t vulnerable to this category of\\nattacks.\\n\\nYou should also configure the Web server that sits in front of Django to\\nvalidate the host. It should respond with a static error page or ignore\\nrequests for incorrect hosts instead of forwarding the request to Django. This\\nway you\\'ll avoid spurious errors in your Django logs (or emails if you have\\nerror reporting configured that way). For example, on nginx you might setup a\\ndefault server to return \"444 No Response\" on an unrecognized host:\\n\\n.. code-block:: nginx\\n\\n    server {\\n        listen 80 default_server;\\n        return 444;\\n    }\\n\\n:setting:`CACHES`\\n-----------------\\n\\nIf you\\'re using a cache, connection parameters may be different in development\\nand in production. Django defaults to per-process :ref:`local-memory caching\\n<local-memory-caching>` which may not be desirable.\\n\\nCache servers often have weak authentication. Make sure they only accept\\nconnections from your application servers.\\n\\nIf you\\'re using Memcached, consider using :ref:`cached sessions\\n<cached-sessions-backend>` to improve performance.\\n\\n:setting:`DATABASES`\\n--------------------\\n\\nDatabase connection parameters are probably different in development and in\\nproduction.\\n\\nDatabase passwords are very sensitive. You should protect them exactly like\\n:setting:`SECRET_KEY`.\\n\\nFor maximum security, make sure database servers only accept connections from\\nyour application servers.\\n\\nIf you haven\\'t set up backups for your database, do it right now!\\n\\n:setting:`EMAIL_BACKEND` and related settings\\n---------------------------------------------\\n\\nIf your site sends emails, these values need to be set correctly.\\n\\nBy default, Django sends email from webmaster@localhost and root@localhost.\\nHowever, some mail providers reject email from these addresses. To use\\ndifferent sender addresses, modify the :setting:`DEFAULT_FROM_EMAIL` and\\n:setting:`SERVER_EMAIL` settings.\\n\\n:setting:`STATIC_ROOT` and :setting:`STATIC_URL`\\n------------------------------------------------\\n\\nStatic files are automatically served by the development server. In\\nproduction, you must define a :setting:`STATIC_ROOT` directory where\\n:djadmin:`collectstatic` will copy them.\\n\\nSee :doc:`/howto/static-files/index` for more information.\\n\\n:setting:`MEDIA_ROOT` and :setting:`MEDIA_URL`\\n----------------------------------------------\\n\\nMedia files are uploaded by your users. They\\'re untrusted! Make sure your web\\nserver never attempts to interpret them. For instance, if a user uploads a\\n``.php`` file, the web server shouldn\\'t execute it.\\n\\nNow is a good time to check your backup strategy for these files.\\n\\n:setting:`FILE_UPLOAD_PERMISSIONS`\\n----------------------------------\\n\\nWith the default file upload settings, files smaller than\\n:setting:`FILE_UPLOAD_MAX_MEMORY_SIZE` may be stored with a different mode\\nthan larger files as described in :setting:`FILE_UPLOAD_PERMISSIONS`.\\n\\nSetting :setting:`FILE_UPLOAD_PERMISSIONS` ensures all files are uploaded with\\nthe same permissions.\\n\\nHTTPS\\n=====\\n\\nAny website which allows users to log in should enforce site-wide HTTPS to\\navoid transmitting access tokens in clear. In Django, access tokens include\\nthe login/password, the session cookie, and password reset tokens. (You can\\'t\\ndo much to protect password reset tokens if you\\'re sending them by email.)\\n\\nProtecting sensitive areas such as the user account or the admin isn\\'t\\nsufficient, because the same session cookie is used for HTTP and HTTPS. Your\\nweb server must redirect all HTTP traffic to HTTPS, and only transmit HTTPS\\nrequests to Django.\\n\\nOnce you\\'ve set up HTTPS, enable the following settings.\\n\\n:setting:`CSRF_COOKIE_SECURE`\\n-----------------------------\\n\\nSet this to ``True`` to avoid transmitting the CSRF cookie over HTTP\\naccidentally.\\n\\n:setting:`SESSION_COOKIE_SECURE`\\n--------------------------------\\n\\nSet this to ``True`` to avoid transmitting the session cookie over HTTP\\naccidentally.\\n\\nPerformance optimizations\\n=========================\\n\\nSetting :setting:`DEBUG = False <DEBUG>` disables several features that are\\nonly useful in development. In addition, you can tune the following settings.\\n\\n:setting:`CONN_MAX_AGE`\\n-----------------------\\n\\nEnabling :ref:`persistent database connections\\n<persistent-database-connections>` can result in a nice speed-up when\\nconnecting to the database accounts for a significant part of the request\\nprocessing time.\\n\\nThis helps a lot on virtualized hosts with limited network performance.\\n\\n:setting:`TEMPLATES`\\n--------------------\\n\\nEnabling the cached template loader often improves performance drastically, as\\nit avoids compiling each template every time it needs to be rendered. See the\\n:ref:`template loaders docs <template-loaders>` for more information.\\n\\nError reporting\\n===============\\n\\nBy the time you push your code to production, it\\'s hopefully robust, but you\\ncan\\'t rule out unexpected errors. Thankfully, Django can capture errors and\\nnotify you accordingly.\\n\\n:setting:`LOGGING`\\n------------------\\n\\nReview your logging configuration before putting your website in production,\\nand check that it works as expected as soon as you have received some traffic.\\n\\nSee :doc:`/topics/logging` for details on logging.\\n\\n:setting:`ADMINS` and :setting:`MANAGERS`\\n-----------------------------------------\\n\\n:setting:`ADMINS` will be notified of 500 errors by email.\\n\\n:setting:`MANAGERS` will be notified of 404 errors.\\n:setting:`IGNORABLE_404_URLS` can help filter out spurious reports.\\n\\nSee :doc:`/howto/error-reporting` for details on error reporting by email.\\n\\n.. admonition:: Error reporting by email doesn\\'t scale very well\\n\\n    Consider using an error monitoring system such as Sentry_ before your\\n    inbox is flooded by reports. Sentry can also aggregate logs.\\n\\n    .. _Sentry: https://docs.sentry.io/\\n\\nCustomize the default error views\\n---------------------------------\\n\\nDjango includes default views and templates for several HTTP error codes. You\\nmay want to override the default templates by creating the following templates\\nin your root template directory: ``404.html``, ``500.html``, ``403.html``, and\\n``400.html``. The :ref:`default error views <error-views>` that use these\\ntemplates should suffice for 99% of Web applications, but you can\\n:ref:`customize them <customizing-error-views>` as well.\\n\\n```\\n' summary='Found the following relevant code spans :\\n\\n### django/conf/global_settings.py\\n- Tokens: 516\\n- Spans: 307-307\\n\\n### django/core/files/storage.py\\n- Tokens: 352\\n- Spans: imports, 193-193, 193-193, 217-217\\n\\n### docs/howto/deployment/checklist.txt\\n- Tokens: 0' terminal=False expect_correction=False properties={'search_hits': {'max_tokens': 8000, 'files': [{'file_path': 'django/conf/global_settings.py', 'spans': [{'span_id': 'impl:105', 'start_line': 307, 'end_line': 307, 'pinned': False}], 'show_all_spans': False, 'patch': None}, {'file_path': 'django/conf/.ipynb_checkpoints/global_settings-checkpoint.py', 'spans': [{'span_id': 'impl:105', 'start_line': 307, 'end_line': 307, 'pinned': False}], 'show_all_spans': False, 'patch': None}, {'file_path': 'django/core/files/storage.py', 'spans': [{'span_id': 'FileSystemStorage', 'start_line': 193, 'end_line': 193, 'pinned': False}, {'span_id': 'FileSystemStorage._clear_cached_properties', 'start_line': 193, 'end_line': 193, 'pinned': False}, {'span_id': 'FileSystemStorage.file_permissions_mode', 'start_line': 217, 'end_line': 217, 'pinned': False}], 'show_all_spans': False, 'patch': None}, {'file_path': 'docs/howto/deployment/checklist.txt', 'spans': [], 'show_all_spans': False, 'patch': None}, {'file_path': 'docs/ref/contrib/staticfiles.txt', 'spans': [], 'show_all_spans': False, 'patch': None}, {'file_path': 'docs/ref/files/storage.txt', 'spans': [], 'show_all_spans': False, 'patch': None}, {'file_path': 'docs/ref/settings.txt', 'spans': [], 'show_all_spans': False, 'patch': None}], 'test_files': []}, 'search_tokens': 34912, 'new_span_ids': ['impl:105', 'FileSystemStorage', 'FileSystemStorage._clear_cached_properties', 'FileSystemStorage.file_permissions_mode']} execution_completion=Completion(model='deepseek/deepseek-chat', input=[{'role': 'system', 'content': 'You are an autonomous AI assistant tasked with identifying relevant code in a codebase. Your goal is to select key code sections from the search results that are most relevant to the search request.\\n\\nThe previous messages will contain:\\n1. A search request from an AI assistant\\n2. Search results containing various code sections with their line numbers\\n\\n# Your Task:\\n\\n1. Understand the Search Request:\\n   * Analyze the previous search request to understand what code elements are being looked for\\n   * Identify key elements such as functions, variables, classes, or patterns that are relevant\\n\\n2. Evaluate Search Results:\\n   * Examine each code section in the search results for alignment with the search request\\n   * Assess the relevance and importance of each code section\\n   * Consider the complete context of code sections\\n\\n3. Respond with the Identify Action:\\n   * Select and respond with the code sections that best match the search request\\n   * Provide your analysis in the thoughts field\\n   * List the relevant file paths with start and end line numbers in the identified_spans field\\n\\n# Response format\\n        You must respond with only a JSON object that match the following json_schema:\\n\\n\\n        {\\n  \"$defs\": {\\n    \"IdentifiedSpans\": {\\n      \"properties\": {\\n        \"file_path\": {\\n          \"description\": \"The file path where the relevant code is found.\",\\n          \"title\": \"File Path\",\\n          \"type\": \"string\"\\n        },\\n        \"start_line\": {\\n          \"description\": \"Starting line number of the relevant code section.\",\\n          \"title\": \"Start Line\",\\n          \"type\": \"integer\"\\n        },\\n        \"end_line\": {\\n          \"description\": \"Ending line number of the relevant code section.\",\\n          \"title\": \"End Line\",\\n          \"type\": \"integer\"\\n        }\\n      },\\n      \"required\": [\\n        \"file_path\",\\n        \"start_line\",\\n        \"end_line\"\\n      ],\\n      \"title\": \"IdentifiedSpans\",\\n      \"type\": \"object\"\\n    }\\n  },\\n  \"description\": \"Identify if the provided search result is relevant to the reported issue.\",\\n  \"properties\": {\\n    \"thoughts\": {\\n      \"anyOf\": [\\n        {\\n          \"type\": \"string\"\\n        },\\n        {\\n          \"type\": \"null\"\\n        }\\n      ],\\n      \"default\": null,\\n      \"description\": \"Your thoughts and analysis on the search results and how they relate to the reported issue.\",\\n      \"title\": \"Thoughts\"\\n    },\\n    \"identified_spans\": {\\n      \"anyOf\": [\\n        {\\n          \"items\": {\\n            \"$ref\": \"#/$defs/IdentifiedSpans\"\\n          },\\n          \"type\": \"array\"\\n        },\\n        {\\n          \"type\": \"null\"\\n        }\\n      ],\\n      \"default\": null,\\n      \"description\": \"Files and code sections in the search results identified as relevant to the reported issue.\",\\n      \"title\": \"Identified Spans\"\\n    }\\n  },\\n  \"title\": \"Identify\",\\n  \"type\": \"object\"\\n}\\n\\n        Make sure to return an instance of the JSON, not the schema itself.'}, {'role': 'user', 'content': 'Search request:\\nSearching for code snippet: FILE_UPLOAD_PERMISSIONS\\n\\nIdentify the relevant code sections in the search results to use them. \\n\\n<search_results>\\ndjango/conf/global_settings.py\\n```\\n\\n      # ...\\n\\n\\n<span id=\\'impl:105\\'>\\n   290\\tFILE_UPLOAD_MAX_MEMORY_SIZE = 2621440  # i.e. 2.5 MB\\n   291\\t\\n   292\\t# Maximum size in bytes of request data (excluding file uploads) that will be\\n   293\\t# read before a SuspiciousOperation (RequestDataTooBig) is raised.\\n   294\\tDATA_UPLOAD_MAX_MEMORY_SIZE = 2621440  # i.e. 2.5 MB\\n   295\\t\\n   296\\t# Maximum number of GET/POST parameters that will be read before a\\n   297\\t# SuspiciousOperation (TooManyFieldsSent) is raised.\\n   298\\tDATA_UPLOAD_MAX_NUMBER_FIELDS = 1000\\n   299\\t\\n   300\\t# Directory in which upload streamed files will be temporarily saved. A value of\\n   301\\t# `None` will make Django use the operating system\\'s default temporary directory\\n   302\\t# (i.e. \"/tmp\" on *nix systems).\\n   303\\tFILE_UPLOAD_TEMP_DIR = None\\n   304\\t\\n   305\\t# The numeric mode to set newly-uploaded files to. The value should be a mode\\n   306\\t# you\\'d pass directly to os.chmod; see https://docs.python.org/library/os.html#files-and-directories.\\n   307\\tFILE_UPLOAD_PERMISSIONS = None\\n   308\\t\\n   309\\t# The numeric mode to assign to newly-created directories, when uploading files.\\n   310\\t# The value should be a mode as you\\'d pass to os.chmod;\\n   311\\t# see https://docs.python.org/library/os.html#files-and-directories.\\n   312\\tFILE_UPLOAD_DIRECTORY_PERMISSIONS = None\\n   313\\t\\n   314\\t# Python module path where user will place custom format definition.\\n   315\\t# The directory where this setting is pointing should contain subdirectories\\n   316\\t# named as the locales, containing a formats.py file\\n   317\\t# (i.e. \"myproject.locale\" for myproject/locale/en/formats.py etc. use)\\n   318\\tFORMAT_MODULE_PATH = None\\n   319\\t\\n   320\\t# Default formatting for date objects. See all available format strings here:\\n   321\\t# https://docs.djangoproject.com/en/dev/ref/templates/builtins/#date\\n   322\\tDATE_FORMAT = \\'N j, Y\\'\\n   323\\t\\n   324\\t# Default formatting for datetime objects. See all available format strings here:\\n   325\\t# https://docs.djangoproject.com/en/dev/ref/templates/builtins/#date\\n   326\\tDATETIME_FORMAT = \\'N j, Y, P\\'\\n   327\\t\\n   328\\t# Default formatting for time objects. See all available format strings here:\\n   329\\t# https://docs.djangoproject.com/en/dev/ref/templates/builtins/#date\\n   330\\tTIME_FORMAT = \\'P\\'\\n   331\\t\\n   332\\t# Default formatting for date objects when only the year and month are relevant.\\n   333\\t# See all available format strings here:\\n   334\\t# https://docs.djangoproject.com/en/dev/ref/templates/builtins/#date\\n   335\\tYEAR_MONTH_FORMAT = \\'F Y\\'\\n   336\\t\\n   337\\t# Default formatting for date objects when only the month and day are relevant.\\n   338\\t# See all available format strings here:\\n   339\\t# https://docs.djangoproject.com/en/dev/ref/templates/builtins/#date\\n      # ...\\n```\\n\\n\\ndjango/conf/.ipynb_checkpoints/global_settings-checkpoint.py\\n```\\n\\n      # ...\\n\\n\\n<span id=\\'impl:105\\'>\\n   290\\tFILE_UPLOAD_MAX_MEMORY_SIZE = 2621440  # i.e. 2.5 MB\\n   291\\t\\n   292\\t# Maximum size in bytes of request data (excluding file uploads) that will be\\n   293\\t# read before a SuspiciousOperation (RequestDataTooBig) is raised.\\n   294\\tDATA_UPLOAD_MAX_MEMORY_SIZE = 2621440  # i.e. 2.5 MB\\n   295\\t\\n   296\\t# Maximum number of GET/POST parameters that will be read before a\\n   297\\t# SuspiciousOperation (TooManyFieldsSent) is raised.\\n   298\\tDATA_UPLOAD_MAX_NUMBER_FIELDS = 1000\\n   299\\t\\n   300\\t# Directory in which upload streamed files will be temporarily saved. A value of\\n   301\\t# `None` will make Django use the operating system\\'s default temporary directory\\n   302\\t# (i.e. \"/tmp\" on *nix systems).\\n   303\\tFILE_UPLOAD_TEMP_DIR = None\\n   304\\t\\n   305\\t# The numeric mode to set newly-uploaded files to. The value should be a mode\\n   306\\t# you\\'d pass directly to os.chmod; see https://docs.python.org/library/os.html#files-and-directories.\\n   307\\tFILE_UPLOAD_PERMISSIONS = None\\n   308\\t\\n   309\\t# The numeric mode to assign to newly-created directories, when uploading files.\\n   310\\t# The value should be a mode as you\\'d pass to os.chmod;\\n   311\\t# see https://docs.python.org/library/os.html#files-and-directories.\\n   312\\tFILE_UPLOAD_DIRECTORY_PERMISSIONS = None\\n   313\\t\\n   314\\t# Python module path where user will place custom format definition.\\n   315\\t# The directory where this setting is pointing should contain subdirectories\\n   316\\t# named as the locales, containing a formats.py file\\n   317\\t# (i.e. \"myproject.locale\" for myproject/locale/en/formats.py etc. use)\\n   318\\tFORMAT_MODULE_PATH = None\\n   319\\t\\n   320\\t# Default formatting for date objects. See all available format strings here:\\n   321\\t# https://docs.djangoproject.com/en/dev/ref/templates/builtins/#date\\n   322\\tDATE_FORMAT = \\'N j, Y\\'\\n   323\\t\\n   324\\t# Default formatting for datetime objects. See all available format strings here:\\n   325\\t# https://docs.djangoproject.com/en/dev/ref/templates/builtins/#date\\n   326\\tDATETIME_FORMAT = \\'N j, Y, P\\'\\n   327\\t\\n   328\\t# Default formatting for time objects. See all available format strings here:\\n   329\\t# https://docs.djangoproject.com/en/dev/ref/templates/builtins/#date\\n   330\\tTIME_FORMAT = \\'P\\'\\n   331\\t\\n   332\\t# Default formatting for date objects when only the year and month are relevant.\\n   333\\t# See all available format strings here:\\n   334\\t# https://docs.djangoproject.com/en/dev/ref/templates/builtins/#date\\n   335\\tYEAR_MONTH_FORMAT = \\'F Y\\'\\n   336\\t\\n   337\\t# Default formatting for date objects when only the month and day are relevant.\\n   338\\t# See all available format strings here:\\n   339\\t# https://docs.djangoproject.com/en/dev/ref/templates/builtins/#date\\n      # ...\\n```\\n\\n\\ndjango/core/files/storage.py\\n```\\n\\n      # ...\\n\\n\\n<span id=\\'FileSystemStorage\\'>\\n   167\\t\\n   168\\t\\n   169\\t@deconstructible\\n   170\\tclass FileSystemStorage(Storage):\\n   171\\t    \"\"\"\\n   172\\t    Standard filesystem storage\\n   173\\t    \"\"\"\\n   174\\t    # The combination of O_CREAT and O_EXCL makes os.open() raise OSError if\\n   175\\t    # the file already exists before it\\'s opened.\\n   176\\t    OS_OPEN_FLAGS = os.O_WRONLY | os.O_CREAT | os.O_EXCL | getattr(os, \\'O_BINARY\\', 0)\\n          # ...\\n\\n\\n<span id=\\'FileSystemStorage._clear_cached_properties\\'>\\n   185\\t\\n   186\\t    def _clear_cached_properties(self, setting, **kwargs):\\n   187\\t        \"\"\"Reset setting based property values.\"\"\"\\n   188\\t        if setting == \\'MEDIA_ROOT\\':\\n   189\\t            self.__dict__.pop(\\'base_location\\', None)\\n   190\\t            self.__dict__.pop(\\'location\\', None)\\n   191\\t        elif setting == \\'MEDIA_URL\\':\\n   192\\t            self.__dict__.pop(\\'base_url\\', None)\\n   193\\t        elif setting == \\'FILE_UPLOAD_PERMISSIONS\\':\\n   194\\t            self.__dict__.pop(\\'file_permissions_mode\\', None)\\n   195\\t        elif setting == \\'FILE_UPLOAD_DIRECTORY_PERMISSIONS\\':\\n   196\\t            self.__dict__.pop(\\'directory_permissions_mode\\', None)\\n          # ...\\n\\n\\n<span id=\\'FileSystemStorage.file_permissions_mode\\'>\\n   214\\t\\n   215\\t    @cached_property\\n   216\\t    def file_permissions_mode(self):\\n   217\\t        return self._value_or_setting(self._file_permissions_mode, settings.FILE_UPLOAD_PERMISSIONS)\\n          # ...\\n      # ...\\n```\\n\\n\\ndocs/howto/deployment/checklist.txt\\n```\\n====================\\nDeployment checklist\\n====================\\n\\nThe Internet is a hostile environment. Before deploying your Django project,\\nyou should take some time to review your settings, with security, performance,\\nand operations in mind.\\n\\nDjango includes many :doc:`security features </topics/security>`. Some are\\nbuilt-in and always enabled. Others are optional because they aren\\'t always\\nappropriate, or because they\\'re inconvenient for development. For example,\\nforcing HTTPS may not be suitable for all websites, and it\\'s impractical for\\nlocal development.\\n\\nPerformance optimizations are another category of trade-offs with convenience.\\nFor instance, caching is useful in production, less so for local development.\\nError reporting needs are also widely different.\\n\\nThe following checklist includes settings that:\\n\\n- must be set properly for Django to provide the expected level of security;\\n- are expected to be different in each environment;\\n- enable optional security features;\\n- enable performance optimizations;\\n- provide error reporting.\\n\\nMany of these settings are sensitive and should be treated as confidential. If\\nyou\\'re releasing the source code for your project, a common practice is to\\npublish suitable settings for development, and to use a private settings\\nmodule for production.\\n\\nRun ``manage.py check --deploy``\\n================================\\n\\nSome of the checks described below can be automated using the :option:`check\\n--deploy` option. Be sure to run it against your production settings file as\\ndescribed in the option\\'s documentation.\\n\\nCritical settings\\n=================\\n\\n:setting:`SECRET_KEY`\\n---------------------\\n\\n**The secret key must be a large random value and it must be kept secret.**\\n\\nMake sure that the key used in production isn\\'t used anywhere else and avoid\\ncommitting it to source control. This reduces the number of vectors from which\\nan attacker may acquire the key.\\n\\nInstead of hardcoding the secret key in your settings module, consider loading\\nit from an environment variable::\\n\\n    import os\\n    SECRET_KEY = os.environ[\\'SECRET_KEY\\']\\n\\nor from a file::\\n\\n    with open(\\'/etc/secret_key.txt\\') as f:\\n        SECRET_KEY = f.read().strip()\\n\\n:setting:`DEBUG`\\n----------------\\n\\n**You must never enable debug in production.**\\n\\nYou\\'re certainly developing your project with :setting:`DEBUG = True <DEBUG>`,\\nsince this enables handy features like full tracebacks in your browser.\\n\\nFor a production environment, though, this is a really bad idea, because it\\nleaks lots of information about your project: excerpts of your source code,\\nlocal variables, settings, libraries used, etc.\\n\\nEnvironment-specific settings\\n=============================\\n\\n:setting:`ALLOWED_HOSTS`\\n------------------------\\n\\nWhen :setting:`DEBUG = False <DEBUG>`, Django doesn\\'t work at all without a\\nsuitable value for :setting:`ALLOWED_HOSTS`.\\n\\nThis setting is required to protect your site against some CSRF attacks. If\\nyou use a wildcard, you must perform your own validation of the ``Host`` HTTP\\nheader, or otherwise ensure that you aren\\'t vulnerable to this category of\\nattacks.\\n\\nYou should also configure the Web server that sits in front of Django to\\nvalidate the host. It should respond with a static error page or ignore\\nrequests for incorrect hosts instead of forwarding the request to Django. This\\nway you\\'ll avoid spurious errors in your Django logs (or emails if you have\\nerror reporting configured that way). For example, on nginx you might setup a\\ndefault server to return \"444 No Response\" on an unrecognized host:\\n\\n.. code-block:: nginx\\n\\n    server {\\n        listen 80 default_server;\\n        return 444;\\n    }\\n\\n:setting:`CACHES`\\n-----------------\\n\\nIf you\\'re using a cache, connection parameters may be different in development\\nand in production. Django defaults to per-process :ref:`local-memory caching\\n<local-memory-caching>` which may not be desirable.\\n\\nCache servers often have weak authentication. Make sure they only accept\\nconnections from your application servers.\\n\\nIf you\\'re using Memcached, consider using :ref:`cached sessions\\n<cached-sessions-backend>` to improve performance.\\n\\n:setting:`DATABASES`\\n--------------------\\n\\nDatabase connection parameters are probably different in development and in\\nproduction.\\n\\nDatabase passwords are very sensitive. You should protect them exactly like\\n:setting:`SECRET_KEY`.\\n\\nFor maximum security, make sure database servers only accept connections from\\nyour application servers.\\n\\nIf you haven\\'t set up backups for your database, do it right now!\\n\\n:setting:`EMAIL_BACKEND` and related settings\\n---------------------------------------------\\n\\nIf your site sends emails, these values need to be set correctly.\\n\\nBy default, Django sends email from webmaster@localhost and root@localhost.\\nHowever, some mail providers reject email from these addresses. To use\\ndifferent sender addresses, modify the :setting:`DEFAULT_FROM_EMAIL` and\\n:setting:`SERVER_EMAIL` settings.\\n\\n:setting:`STATIC_ROOT` and :setting:`STATIC_URL`\\n------------------------------------------------\\n\\nStatic files are automatically served by the development server. In\\nproduction, you must define a :setting:`STATIC_ROOT` directory where\\n:djadmin:`collectstatic` will copy them.\\n\\nSee :doc:`/howto/static-files/index` for more information.\\n\\n:setting:`MEDIA_ROOT` and :setting:`MEDIA_URL`\\n----------------------------------------------\\n\\nMedia files are uploaded by your users. They\\'re untrusted! Make sure your web\\nserver never attempts to interpret them. For instance, if a user uploads a\\n``.php`` file, the web server shouldn\\'t execute it.\\n\\nNow is a good time to check your backup strategy for these files.\\n\\n:setting:`FILE_UPLOAD_PERMISSIONS`\\n----------------------------------\\n\\nWith the default file upload settings, files smaller than\\n:setting:`FILE_UPLOAD_MAX_MEMORY_SIZE` may be stored with a different mode\\nthan larger files as described in :setting:`FILE_UPLOAD_PERMISSIONS`.\\n\\nSetting :setting:`FILE_UPLOAD_PERMISSIONS` ensures all files are uploaded with\\nthe same permissions.\\n\\nHTTPS\\n=====\\n\\nAny website which allows users to log in should enforce site-wide HTTPS to\\navoid transmitting access tokens in clear. In Django, access tokens include\\nthe login/password, the session cookie, and password reset tokens. (You can\\'t\\ndo much to protect password reset tokens if you\\'re sending them by email.)\\n\\nProtecting sensitive areas such as the user account or the admin isn\\'t\\nsufficient, because the same session cookie is used for HTTP and HTTPS. Your\\nweb server must redirect all HTTP traffic to HTTPS, and only transmit HTTPS\\nrequests to Django.\\n\\nOnce you\\'ve set up HTTPS, enable the following settings.\\n\\n:setting:`CSRF_COOKIE_SECURE`\\n-----------------------------\\n\\nSet this to ``True`` to avoid transmitting the CSRF cookie over HTTP\\naccidentally.\\n\\n:setting:`SESSION_COOKIE_SECURE`\\n--------------------------------\\n\\nSet this to ``True`` to avoid transmitting the session cookie over HTTP\\naccidentally.\\n\\nPerformance optimizations\\n=========================\\n\\nSetting :setting:`DEBUG = False <DEBUG>` disables several features that are\\nonly useful in development. In addition, you can tune the following settings.\\n\\n:setting:`CONN_MAX_AGE`\\n-----------------------\\n\\nEnabling :ref:`persistent database connections\\n<persistent-database-connections>` can result in a nice speed-up when\\nconnecting to the database accounts for a significant part of the request\\nprocessing time.\\n\\nThis helps a lot on virtualized hosts with limited network performance.\\n\\n:setting:`TEMPLATES`\\n--------------------\\n\\nEnabling the cached template loader often improves performance drastically, as\\nit avoids compiling each template every time it needs to be rendered. See the\\n:ref:`template loaders docs <template-loaders>` for more information.\\n\\nError reporting\\n===============\\n\\nBy the time you push your code to production, it\\'s hopefully robust, but you\\ncan\\'t rule out unexpected errors. Thankfully, Django can capture errors and\\nnotify you accordingly.\\n\\n:setting:`LOGGING`\\n------------------\\n\\nReview your logging configuration before putting your website in production,\\nand check that it works as expected as soon as you have received some traffic.\\n\\nSee :doc:`/topics/logging` for details on logging.\\n\\n:setting:`ADMINS` and :setting:`MANAGERS`\\n-----------------------------------------\\n\\n:setting:`ADMINS` will be notified of 500 errors by email.\\n\\n:setting:`MANAGERS` will be notified of 404 errors.\\n:setting:`IGNORABLE_404_URLS` can help filter out spurious reports.\\n\\nSee :doc:`/howto/error-reporting` for details on error reporting by email.\\n\\n.. admonition:: Error reporting by email doesn\\'t scale very well\\n\\n    Consider using an error monitoring system such as Sentry_ before your\\n    inbox is flooded by reports. Sentry can also aggregate logs.\\n\\n    .. _Sentry: https://docs.sentry.io/\\n\\nCustomize the default error views\\n---------------------------------\\n\\nDjango includes default views and templates for several HTTP error codes. You\\nmay want to override the default templates by creating the following templates\\nin your root template directory: ``404.html``, ``500.html``, ``403.html``, and\\n``400.html``. The :ref:`default error views <error-views>` that use these\\ntemplates should suffice for 99% of Web applications, but you can\\n:ref:`customize them <customizing-error-views>` as well.\\n\\n```\\n\\n\\ndocs/ref/contrib/staticfiles.txt\\n```\\n=======================\\nThe ``staticfiles`` app\\n=======================\\n\\n.. module:: django.contrib.staticfiles\\n   :synopsis: An app for handling static files.\\n\\n``django.contrib.staticfiles`` collects static files from each of your\\napplications (and any other places you specify) into a single location that\\ncan easily be served in production.\\n\\n.. seealso::\\n\\n    For an introduction to the static files app and some usage examples, see\\n    :doc:`/howto/static-files/index`. For guidelines on deploying static files,\\n    see :doc:`/howto/static-files/deployment`.\\n\\n.. _staticfiles-settings:\\n\\nSettings\\n========\\n\\nSee :ref:`staticfiles settings <settings-staticfiles>` for details on the\\nfollowing settings:\\n\\n* :setting:`STATIC_ROOT`\\n* :setting:`STATIC_URL`\\n* :setting:`STATICFILES_DIRS`\\n* :setting:`STATICFILES_STORAGE`\\n* :setting:`STATICFILES_FINDERS`\\n\\nManagement Commands\\n===================\\n\\n``django.contrib.staticfiles`` exposes three management commands.\\n\\n``collectstatic``\\n-----------------\\n\\n.. django-admin:: collectstatic\\n\\nCollects the static files into :setting:`STATIC_ROOT`.\\n\\nDuplicate file names are by default resolved in a similar way to how template\\nresolution works: the file that is first found in one of the specified\\nlocations will be used. If you\\'re confused, the :djadmin:`findstatic` command\\ncan help show you which files are found.\\n\\nOn subsequent ``collectstatic`` runs (if ``STATIC_ROOT`` isn\\'t empty), files\\nare copied only if they have a modified timestamp greater than the timestamp of\\nthe file in ``STATIC_ROOT``. Therefore if you remove an application from\\n:setting:`INSTALLED_APPS`, it\\'s a good idea to use the :option:`collectstatic\\n--clear` option in order to remove stale static files.\\n\\nFiles are searched by using the :setting:`enabled finders\\n<STATICFILES_FINDERS>`. The default is to look in all locations defined in\\n:setting:`STATICFILES_DIRS` and in the ``\\'static\\'`` directory of apps\\nspecified by the :setting:`INSTALLED_APPS` setting.\\n\\nThe :djadmin:`collectstatic` management command calls the\\n:meth:`~django.contrib.staticfiles.storage.StaticFilesStorage.post_process`\\nmethod of the :setting:`STATICFILES_STORAGE` after each run and passes\\na list of paths that have been found by the management command. It also\\nreceives all command line options of :djadmin:`collectstatic`. This is used\\nby the :class:`~django.contrib.staticfiles.storage.ManifestStaticFilesStorage`\\nby default.\\n\\nBy default, collected files receive permissions from\\n:setting:`FILE_UPLOAD_PERMISSIONS` and collected directories receive permissions\\nfrom :setting:`FILE_UPLOAD_DIRECTORY_PERMISSIONS`. If you would like different\\npermissions for these files and/or directories, you can subclass either of the\\n:ref:`static files storage classes <staticfiles-storages>` and specify the\\n``file_permissions_mode`` and/or ``directory_permissions_mode`` parameters,\\nrespectively. For example::\\n\\n    from django.contrib.staticfiles import storage\\n\\n    class MyStaticFilesStorage(storage.StaticFilesStorage):\\n        def __init__(self, *args, **kwargs):\\n            kwargs[\\'file_permissions_mode\\'] = 0o640\\n            kwargs[\\'directory_permissions_mode\\'] = 0o760\\n            super().__init__(*args, **kwargs)\\n\\nThen set the :setting:`STATICFILES_STORAGE` setting to\\n``\\'path.to.MyStaticFilesStorage\\'``.\\n\\nSome commonly used options are:\\n\\n.. django-admin-option:: --noinput, --no-input\\n\\n    Do NOT prompt the user for input of any kind.\\n\\n.. django-admin-option:: --ignore PATTERN, -i PATTERN\\n\\n    Ignore files, directories, or paths matching this glob-style pattern. Use\\n    multiple times to ignore more. When specifying a path, always use forward\\n    slashes, even on Windows.\\n\\n    .. versionchanged:: 2.2\\n\\n        Path matching was added.\\n\\n.. django-admin-option:: --dry-run, -n\\n\\n    Do everything except modify the filesystem.\\n\\n.. django-admin-option:: --clear, -c\\n\\n    Clear the existing files before trying to copy or link the original file.\\n\\n.. django-admin-option:: --link, -l\\n\\n    Create a symbolic link to each file instead of copying.\\n\\n.. django-admin-option:: --no-post-process\\n\\n    Don\\'t call the\\n    :meth:`~django.contrib.staticfiles.storage.StaticFilesStorage.post_process`\\n    method of the configured :setting:`STATICFILES_STORAGE` storage backend.\\n\\n.. django-admin-option:: --no-default-ignore\\n\\n    Don\\'t ignore the common private glob-style patterns ``\\'CVS\\'``, ``\\'.*\\'``\\n    and ``\\'*~\\'``.\\n\\nFor a full list of options, refer to the commands own help by running:\\n\\n.. console::\\n\\n   $ python manage.py collectstatic --help\\n\\n.. _customize-staticfiles-ignore-patterns:\\n\\nCustomizing the ignored pattern list\\n~~~~~~~~~~~~~~~~~~~~~~~~~~~~~~~~~~~~\\n\\nThe default ignored pattern list, ``[\\'CVS\\', \\'.*\\', \\'*~\\']``, can be customized in\\na more persistent way than providing the ``--ignore`` command option at each\\n``collectstatic`` invocation. Provide a custom :class:`~django.apps.AppConfig`\\nclass, override the ``ignore_patterns`` attribute of this class and replace\\n``\\'django.contrib.staticfiles\\'`` with that class path in your\\n:setting:`INSTALLED_APPS` setting:\\n\\n.. code-block:: python\\n\\n    from django.contrib.staticfiles.apps import StaticFilesConfig\\n\\n    class MyStaticFilesConfig(StaticFilesConfig):\\n        ignore_patterns = [...]  # your custom ignore list\\n\\n``findstatic``\\n--------------\\n\\n.. django-admin:: findstatic staticfile [staticfile ...]\\n\\nSearches for one or more relative paths with the enabled finders.\\n\\nFor example:\\n\\n.. console::\\n\\n   $ python manage.py findstatic css/base.css admin/js/core.js\\n   Found \\'css/base.css\\' here:\\n     /home/special.polls.com/core/static/css/base.css\\n     /home/polls.com/core/static/css/base.css\\n   Found \\'admin/js/core.js\\' here:\\n     /home/polls.com/src/django/contrib/admin/media/js/core.js\\n\\n.. django-admin-option:: findstatic --first\\n\\nBy default, all matching locations are found. To only return the first match\\nfor each relative path, use the ``--first`` option:\\n\\n.. console::\\n\\n   $ python manage.py findstatic css/base.css --first\\n   Found \\'css/base.css\\' here:\\n     /home/special.polls.com/core/static/css/base.css\\n\\nThis is a debugging aid; it\\'ll show you exactly which static file will be\\ncollected for a given path.\\n\\nBy setting the ``--verbosity`` flag to 0, you can suppress the extra output and\\njust get the path names:\\n\\n.. console::\\n\\n   $ python manage.py findstatic css/base.css --verbosity 0\\n   /home/special.polls.com/core/static/css/base.css\\n   /home/polls.com/core/static/css/base.css\\n\\nOn the other hand, by setting the ``--verbosity`` flag to 2, you can get all\\nthe directories which were searched:\\n\\n.. console::\\n\\n   $ python manage.py findstatic css/base.css --verbosity 2\\n   Found \\'css/base.css\\' here:\\n     /home/special.polls.com/core/static/css/base.css\\n     /home/polls.com/core/static/css/base.css\\n   Looking in the following locations:\\n     /home/special.polls.com/core/static\\n     /home/polls.com/core/static\\n     /some/other/path/static\\n\\n.. _staticfiles-runserver:\\n\\n``runserver``\\n-------------\\n\\n.. django-admin:: runserver [addrport]\\n\\nOverrides the core :djadmin:`runserver` command if the ``staticfiles`` app\\nis :setting:`installed<INSTALLED_APPS>` and adds automatic serving of static\\nfiles. File serving doesn\\'t run through :setting:`MIDDLEWARE`.\\n\\nThe command adds these options:\\n\\n.. django-admin-option:: --nostatic\\n\\nUse the ``--nostatic`` option to disable serving of static files with the\\n:doc:`staticfiles </ref/contrib/staticfiles>` app entirely. This option is\\nonly available if the :doc:`staticfiles </ref/contrib/staticfiles>` app is\\nin your project\\'s :setting:`INSTALLED_APPS` setting.\\n\\nExample usage:\\n\\n.. console::\\n\\n    $ django-admin runserver --nostatic\\n\\n.. django-admin-option:: --insecure\\n\\nUse the ``--insecure`` option to force serving of static files with the\\n:doc:`staticfiles </ref/contrib/staticfiles>` app even if the :setting:`DEBUG`\\nsetting is ``False``. By using this you acknowledge the fact that it\\'s\\n**grossly inefficient** and probably **insecure**. This is only intended for\\nlocal development, should **never be used in production** and is only\\navailable if the :doc:`staticfiles </ref/contrib/staticfiles>` app is\\nin your project\\'s :setting:`INSTALLED_APPS` setting.\\n\\n``--insecure`` doesn\\'t work with :class:`~.storage.ManifestStaticFilesStorage`.\\n\\nExample usage:\\n\\n.. console::\\n\\n    $ django-admin runserver --insecure\\n\\n.. _staticfiles-storages:\\n\\nStorages\\n========\\n\\n``StaticFilesStorage``\\n----------------------\\n\\n.. class:: storage.StaticFilesStorage\\n\\nA subclass of the :class:`~django.core.files.storage.FileSystemStorage`\\nstorage backend that uses the :setting:`STATIC_ROOT` setting as the base\\nfile system location and the :setting:`STATIC_URL` setting respectively\\nas the base URL.\\n\\n.. method:: storage.StaticFilesStorage.post_process(paths, **options)\\n\\nIf this method is defined on a storage, it\\'s called by the\\n:djadmin:`collectstatic` management command after each run and gets passed the\\nlocal storages and paths of found files as a dictionary, as well as the command\\nline options. It yields tuples of three values:\\n``original_path, processed_path, processed``. The path values are strings and\\n``processed`` is a boolean indicating whether or not the value was\\npost-processed, or an exception if post-processing failed.\\n\\nThe :class:`~django.contrib.staticfiles.storage.ManifestStaticFilesStorage`\\nuses this behind the scenes to replace the paths with their hashed\\ncounterparts and update the cache appropriately.\\n\\n``ManifestStaticFilesStorage``\\n------------------------------\\n\\n.. class:: storage.ManifestStaticFilesStorage\\n\\nA subclass of the :class:`~django.contrib.staticfiles.storage.StaticFilesStorage`\\nstorage backend which stores the file names it handles by appending the MD5\\nhash of the file\\'s content to the filename. For example, the file\\n``css/styles.css`` would also be saved as ``css/styles.55e7cbb9ba48.css``.\\n\\nThe purpose of this storage is to keep serving the old files in case some\\npages still refer to those files, e.g. because they are cached by you or\\na 3rd party proxy server. Additionally, it\\'s very helpful if you want to\\napply `far future Expires headers`_ to the deployed files to speed up the\\nload time for subsequent page visits.\\n\\nThe storage backend automatically replaces the paths found in the saved\\nfiles matching other saved files with the path of the cached copy (using\\nthe :meth:`~django.contrib.staticfiles.storage.StaticFilesStorage.post_process`\\nmethod). The regular expressions used to find those paths\\n(``django.contrib.staticfiles.storage.HashedFilesMixin.patterns``)\\nby default covers the `@import`_ rule and `url()`_ statement of `Cascading\\nStyle Sheets`_. For example, the ``\\'css/styles.css\\'`` file with the\\ncontent\\n\\n.. code-block:: css\\n\\n    @import url(\"../admin/css/base.css\");\\n\\nwould be replaced by calling the :meth:`~django.core.files.storage.Storage.url`\\nmethod of the ``ManifestStaticFilesStorage`` storage backend, ultimately\\nsaving a ``\\'css/styles.55e7cbb9ba48.css\\'`` file with the following\\ncontent:\\n\\n.. code-block:: css\\n\\n    @import url(\"../admin/css/base.27e20196a850.css\");\\n\\n.. attribute:: storage.ManifestStaticFilesStorage.max_post_process_passes\\n\\nSince static files might reference other static files that need to have their\\npaths replaced, multiple passes of replacing paths may be needed until the file\\nhashes converge. To prevent an infinite loop due to hashes not converging (for\\nexample, if ``\\'foo.css\\'`` references ``\\'bar.css\\'`` which references\\n``\\'foo.css\\'``) there is a maximum number of passes before post-processing is\\nabandoned. In cases with a large number of references, a higher number of\\npasses might be needed. Increase the maximum number of passes by subclassing\\n``ManifestStaticFilesStorage`` and setting the ``max_post_process_passes``\\nattribute. It defaults to 5.\\n\\nTo enable the ``ManifestStaticFilesStorage`` you have to make sure the\\nfollowing requirements are met:\\n\\n* the :setting:`STATICFILES_STORAGE` setting is set to\\n  ``\\'django.contrib.staticfiles.storage.ManifestStaticFilesStorage\\'``\\n* the :setting:`DEBUG` setting is set to ``False``\\n* you\\'ve collected all your static files by using the\\n  :djadmin:`collectstatic` management command\\n\\nSince creating the MD5 hash can be a performance burden to your website\\nduring runtime, ``staticfiles`` will automatically store the mapping with\\nhashed names for all processed files in a file called ``staticfiles.json``.\\nThis happens once when you run the :djadmin:`collectstatic` management\\ncommand.\\n\\n.. attribute:: storage.ManifestStaticFilesStorage.manifest_strict\\n\\nIf a file isn\\'t found in the ``staticfiles.json`` manifest at runtime, a\\n``ValueError`` is raised. This behavior can be disabled by subclassing\\n``ManifestStaticFilesStorage`` and setting the ``manifest_strict`` attribute to\\n``False`` -- nonexistent paths will remain unchanged.\\n\\nDue to the requirement of running :djadmin:`collectstatic`, this storage\\ntypically shouldn\\'t be used when running tests as ``collectstatic`` isn\\'t run\\nas part of the normal test setup. During testing, ensure that the\\n:setting:`STATICFILES_STORAGE` setting is set to something else like\\n``\\'django.contrib.staticfiles.storage.StaticFilesStorage\\'`` (the default).\\n\\n.. method:: storage.ManifestStaticFilesStorage.file_hash(name, content=None)\\n\\nThe method that is used when creating the hashed name of a file.\\nNeeds to return a hash for the given file name and content.\\nBy default it calculates a MD5 hash from the content\\'s chunks as\\nmentioned above. Feel free to override this method to use your own\\nhashing algorithm.\\n\\n.. _`far future Expires headers`: https://developer.yahoo.com/performance/rules.html#expires\\n.. _`@import`: https://www.w3.org/TR/CSS2/cascade.html#at-import\\n.. _`url()`: https://www.w3.org/TR/CSS2/syndata.html#uri\\n.. _`Cascading Style Sheets`: https://www.w3.org/Style/CSS/\\n\\n``CachedStaticFilesStorage``\\n----------------------------\\n\\n.. class:: storage.CachedStaticFilesStorage\\n\\n.. deprecated:: 2.2\\n\\n    ``CachedStaticFilesStorage`` is deprecated as it has some intractable\\n    problems, some of which are outlined below. Use\\n    :class:`~storage.ManifestStaticFilesStorage` or a third-party cloud storage\\n    instead.\\n\\n``CachedStaticFilesStorage`` is a similar class like the\\n:class:`~django.contrib.staticfiles.storage.ManifestStaticFilesStorage` class\\nbut uses Django\\'s :doc:`caching framework</topics/cache>` for storing the\\nhashed names of processed files instead of a static manifest file called\\n``staticfiles.json``. This is mostly useful for situations in which you don\\'t\\nhave access to the file system.\\n\\nIf you want to override certain options of the cache backend the storage uses,\\nsimply specify a custom entry in the :setting:`CACHES` setting named\\n``\\'staticfiles\\'``. It falls back to using the ``\\'default\\'`` cache backend.\\n\\n.. warning::\\n\\n    ``CachedStaticFilesStorage`` isn\\'t recommended --  in almost all cases\\n    ``ManifestStaticFilesStorage`` is a better choice. There are several\\n    performance penalties when using ``CachedStaticFilesStorage`` since a cache\\n    miss requires hashing files at runtime. Remote file storage require several\\n    round-trips to hash a file on a cache miss, as several file accesses are\\n    required to ensure that the file hash is correct in the case of nested file\\n    paths.\\n\\n``ManifestFilesMixin``\\n----------------------\\n\\n.. class:: storage.ManifestFilesMixin\\n\\nUse this mixin with a custom storage to append the MD5 hash of the file\\'s\\ncontent to the filename as :class:`~storage.ManifestStaticFilesStorage` does.\\n\\nFinders Module\\n==============\\n\\n``staticfiles`` finders has a ``searched_locations`` attribute which is a list\\nof directory paths in which the finders searched. Example usage::\\n\\n    from django.contrib.staticfiles import finders\\n\\n    result = finders.find(\\'css/base.css\\')\\n    searched_locations = finders.searched_locations\\n\\nOther Helpers\\n=============\\n\\nThere are a few other helpers outside of the\\n:mod:`staticfiles <django.contrib.staticfiles>` app to work with static\\nfiles:\\n\\n- The :func:`django.template.context_processors.static` context processor\\n  which adds :setting:`STATIC_URL` to every template context rendered\\n  with :class:`~django.template.RequestContext` contexts.\\n\\n- The builtin template tag :ttag:`static` which takes a path and urljoins it\\n  with the static prefix :setting:`STATIC_URL`. If\\n  ``django.contrib.staticfiles`` is installed, the tag uses the ``url()``\\n  method of the :setting:`STATICFILES_STORAGE` instead.\\n\\n- The builtin template tag :ttag:`get_static_prefix` which populates a\\n  template variable with the static prefix :setting:`STATIC_URL` to be\\n  used as a variable or directly.\\n\\n- The similar template tag :ttag:`get_media_prefix` which works like\\n  :ttag:`get_static_prefix` but uses :setting:`MEDIA_URL`.\\n\\n.. _staticfiles-development-view:\\n\\nStatic file development view\\n----------------------------\\n\\n.. currentmodule:: django.contrib.staticfiles\\n\\nThe static files tools are mostly designed to help with getting static files\\nsuccessfully deployed into production. This usually means a separate,\\ndedicated static file server, which is a lot of overhead to mess with when\\ndeveloping locally. Thus, the ``staticfiles`` app ships with a\\n**quick and dirty helper view** that you can use to serve files locally in\\ndevelopment.\\n\\n.. function:: views.serve(request, path)\\n\\nThis view function serves static files in development.\\n\\n.. warning::\\n\\n    This view will only work if :setting:`DEBUG` is ``True``.\\n\\n    That\\'s because this view is **grossly inefficient** and probably\\n    **insecure**. This is only intended for local development, and should\\n    **never be used in production**.\\n\\n.. note::\\n\\n    To guess the served files\\' content types, this view relies on the\\n    :py:mod:`mimetypes` module from the Python standard library, which itself\\n    relies on the underlying platform\\'s map files. If you find that this view\\n    doesn\\'t return proper content types for certain files, it is most likely\\n    that the platform\\'s map files need to be updated. This can be achieved, for\\n    example, by installing or updating the ``mailcap`` package on a Red Hat\\n    distribution, or ``mime-support`` on a Debian distribution.\\n\\nThis view is automatically enabled by :djadmin:`runserver` (with a\\n:setting:`DEBUG` setting set to ``True``). To use the view with a different\\nlocal development server, add the following snippet to the end of your\\nprimary URL configuration::\\n\\n   from django.conf import settings\\n   from django.contrib.staticfiles import views\\n   from django.urls import re_path\\n\\n   if settings.DEBUG:\\n       urlpatterns += [\\n           re_path(r\\'^static/(?P<path>.*)$\\', views.serve),\\n       ]\\n\\nNote, the beginning of the pattern (``r\\'^static/\\'``) should be your\\n:setting:`STATIC_URL` setting.\\n\\nSince this is a bit finicky, there\\'s also a helper function that\\'ll do this for\\nyou:\\n\\n.. function:: urls.staticfiles_urlpatterns()\\n\\nThis will return the proper URL pattern for serving static files to your\\nalready defined pattern list. Use it like this::\\n\\n   from django.contrib.staticfiles.urls import staticfiles_urlpatterns\\n\\n   # ... the rest of your URLconf here ...\\n\\n   urlpatterns += staticfiles_urlpatterns()\\n\\nThis will inspect your :setting:`STATIC_URL` setting and wire up the view\\nto serve static files accordingly. Don\\'t forget to set the\\n:setting:`STATICFILES_DIRS` setting appropriately to let\\n``django.contrib.staticfiles`` know where to look for files in addition to\\nfiles in app directories.\\n\\n.. warning::\\n\\n    This helper function will only work if :setting:`DEBUG` is ``True``\\n    and your :setting:`STATIC_URL` setting is neither empty nor a full\\n    URL such as ``http://static.example.com/``.\\n\\n    That\\'s because this view is **grossly inefficient** and probably\\n    **insecure**. This is only intended for local development, and should\\n    **never be used in production**.\\n\\nSpecialized test case to support \\'live testing\\'\\n-----------------------------------------------\\n\\n.. class:: testing.StaticLiveServerTestCase\\n\\nThis unittest TestCase subclass extends :class:`django.test.LiveServerTestCase`.\\n\\nJust like its parent, you can use it to write tests that involve running the\\ncode under test and consuming it with testing tools through HTTP (e.g. Selenium,\\nPhantomJS, etc.), because of which it\\'s needed that the static assets are also\\npublished.\\n\\nBut given the fact that it makes use of the\\n:func:`django.contrib.staticfiles.views.serve` view described above, it can\\ntransparently overlay at test execution-time the assets provided by the\\n``staticfiles`` finders. This means you don\\'t need to run\\n:djadmin:`collectstatic` before or as a part of your tests setup.\\n\\n```\\n\\n\\ndocs/ref/files/storage.txt\\n```\\n================\\nFile storage API\\n================\\n\\n.. module:: django.core.files.storage\\n\\nGetting the current storage class\\n=================================\\n\\nDjango provides two convenient ways to access the current storage class:\\n\\n.. class:: DefaultStorage\\n\\n    :class:`~django.core.files.storage.DefaultStorage` provides\\n    lazy access to the current default storage system as defined by\\n    :setting:`DEFAULT_FILE_STORAGE`. :class:`DefaultStorage` uses\\n    :func:`~django.core.files.storage.get_storage_class` internally.\\n\\n.. function:: get_storage_class(import_path=None)\\n\\n    Returns a class or module which implements the storage API.\\n\\n    When called without the ``import_path`` parameter ``get_storage_class``\\n    will return the current default storage system as defined by\\n    :setting:`DEFAULT_FILE_STORAGE`. If ``import_path`` is provided,\\n    ``get_storage_class`` will attempt to import the class or module from the\\n    given path and will return it if successful. An exception will be\\n    raised if the import is unsuccessful.\\n\\nThe ``FileSystemStorage`` class\\n===============================\\n\\n.. class:: FileSystemStorage(location=None, base_url=None, file_permissions_mode=None, directory_permissions_mode=None)\\n\\n    The :class:`~django.core.files.storage.FileSystemStorage` class implements\\n    basic file storage on a local filesystem. It inherits from\\n    :class:`~django.core.files.storage.Storage` and provides implementations\\n    for all the public methods thereof.\\n\\n    .. attribute:: location\\n\\n        Absolute path to the directory that will hold the files.\\n        Defaults to the value of your :setting:`MEDIA_ROOT` setting.\\n\\n    .. attribute:: base_url\\n\\n        URL that serves the files stored at this location.\\n        Defaults to the value of your :setting:`MEDIA_URL` setting.\\n\\n    .. attribute:: file_permissions_mode\\n\\n        The file system permissions that the file will receive when it is\\n        saved. Defaults to :setting:`FILE_UPLOAD_PERMISSIONS`.\\n\\n    .. attribute:: directory_permissions_mode\\n\\n        The file system permissions that the directory will receive when it is\\n        saved. Defaults to :setting:`FILE_UPLOAD_DIRECTORY_PERMISSIONS`.\\n\\n    .. note::\\n\\n        The ``FileSystemStorage.delete()`` method will not raise\\n        an exception if the given file name does not exist.\\n\\n    .. method:: get_created_time(name)\\n\\n        Returns a :class:`~datetime.datetime` of the system\\'s ctime, i.e.\\n        :func:`os.path.getctime`. On some systems (like Unix), this is the\\n        time of the last metadata change, and on others (like Windows), it\\'s\\n        the creation time of the file.\\n\\nThe ``Storage`` class\\n=====================\\n\\n.. class:: Storage\\n\\n    The :class:`~django.core.files.storage.Storage` class provides a\\n    standardized API for storing files, along with a set of default\\n    behaviors that all other storage systems can inherit or override\\n    as necessary.\\n\\n    .. note::\\n        When methods return naive ``datetime`` objects, the effective timezone\\n        used will be the current value of ``os.environ[\\'TZ\\']``; note that this\\n        is usually set from Django\\'s :setting:`TIME_ZONE`.\\n\\n    .. method:: delete(name)\\n\\n        Deletes the file referenced by ``name``. If deletion is not supported\\n        on the target storage system this will raise ``NotImplementedError``\\n        instead\\n\\n    .. method:: exists(name)\\n\\n        Returns ``True`` if a file referenced by the given name already exists\\n        in the storage system, or ``False`` if the name is available for a new\\n        file.\\n\\n    .. method:: get_accessed_time(name)\\n\\n        Returns a :class:`~datetime.datetime` of the last accessed time of the\\n        file. For storage systems unable to return the last accessed time this\\n        will raise :exc:`NotImplementedError`.\\n\\n        If :setting:`USE_TZ` is ``True``, returns an aware ``datetime``,\\n        otherwise returns a naive ``datetime`` in the local timezone.\\n\\n    .. method:: get_available_name(name, max_length=None)\\n\\n        Returns a filename based on the ``name`` parameter that\\'s free and\\n        available for new content to be written to on the target storage\\n        system.\\n\\n        The length of the filename will not exceed ``max_length``, if provided.\\n        If a free unique filename cannot be found, a\\n        :exc:`SuspiciousFileOperation\\n        <django.core.exceptions.SuspiciousOperation>` exception will be raised.\\n\\n        If a file with ``name`` already exists, an underscore plus a random\\n        7 character alphanumeric string is appended to the filename before\\n        the extension.\\n\\n    .. method:: get_created_time(name)\\n\\n        Returns a :class:`~datetime.datetime` of the creation time of the file.\\n        For storage systems unable to return the creation time this will raise\\n        :exc:`NotImplementedError`.\\n\\n        If :setting:`USE_TZ` is ``True``, returns an aware ``datetime``,\\n        otherwise returns a naive ``datetime`` in the local timezone.\\n\\n    .. method:: get_modified_time(name)\\n\\n        Returns a :class:`~datetime.datetime` of the last modified time of the\\n        file. For storage systems unable to return the last modified time this\\n        will raise :exc:`NotImplementedError`.\\n\\n        If :setting:`USE_TZ` is ``True``, returns an aware ``datetime``,\\n        otherwise returns a naive ``datetime`` in the local timezone.\\n\\n    .. method:: get_valid_name(name)\\n\\n        Returns a filename based on the ``name`` parameter that\\'s suitable\\n        for use on the target storage system.\\n\\n    .. method:: generate_filename(filename)\\n\\n        Validates the ``filename`` by calling :attr:`get_valid_name()` and\\n        returns a filename to be passed to the :meth:`save` method.\\n\\n        The ``filename`` argument may include a path as returned by\\n        :attr:`FileField.upload_to <django.db.models.FileField.upload_to>`.\\n        In that case, the path won\\'t be passed to :attr:`get_valid_name()` but\\n        will be prepended back to the resulting name.\\n\\n        The default implementation uses :mod:`os.path` operations. Override\\n        this method if that\\'s not appropriate for your storage.\\n\\n    .. method:: listdir(path)\\n\\n        Lists the contents of the specified path, returning a 2-tuple of lists;\\n        the first item being directories, the second item being files. For\\n        storage systems that aren\\'t able to provide such a listing, this will\\n        raise a ``NotImplementedError`` instead.\\n\\n    .. method:: open(name, mode=\\'rb\\')\\n\\n        Opens the file given by ``name``. Note that although the returned file\\n        is guaranteed to be a ``File`` object, it might actually be some\\n        subclass. In the case of remote file storage this means that\\n        reading/writing could be quite slow, so be warned.\\n\\n    .. method:: path(name)\\n\\n        The local filesystem path where the file can be opened using Python\\'s\\n        standard ``open()``. For storage systems that aren\\'t accessible from\\n        the local filesystem, this will raise ``NotImplementedError`` instead.\\n\\n    .. method:: save(name, content, max_length=None)\\n\\n        Saves a new file using the storage system, preferably with the name\\n        specified. If there already exists a file with this name ``name``, the\\n        storage system may modify the filename as necessary to get a unique\\n        name. The actual name of the stored file will be returned.\\n\\n        The ``max_length`` argument is passed along to\\n        :meth:`get_available_name`.\\n\\n        The ``content`` argument must be an instance of\\n        :class:`django.core.files.File` or a file-like object that can be\\n        wrapped in ``File``.\\n\\n    .. method:: size(name)\\n\\n        Returns the total size, in bytes, of the file referenced by ``name``.\\n        For storage systems that aren\\'t able to return the file size this will\\n        raise ``NotImplementedError`` instead.\\n\\n    .. method:: url(name)\\n\\n        Returns the URL where the contents of the file referenced by ``name``\\n        can be accessed. For storage systems that don\\'t support access by URL\\n        this will raise ``NotImplementedError`` instead.\\n\\n```\\n\\n</search_result>\\n'}, {'role': 'assistant', 'content': '{\\n  \"thoughts\": \"The search request is focused on finding code snippets related to \\'FILE_UPLOAD_PERMISSIONS\\'. The most relevant code sections identified are from the Django settings and storage files, which define and utilize the \\'FILE_UPLOAD_PERMISSIONS\\' setting. These sections explain how file upload permissions are set and managed within Django, including default values and how they can be customized. The documentation also provides insights into the importance of setting file upload permissions correctly for security and operational reasons.\",\\n  \"identified_spans\": [\\n    {\\n      \"file_path\": \"django/conf/global_settings.py\",\\n      \"start_line\": 307,\\n      \"end_line\": 307\\n    },\\n    {\\n      \"file_path\": \"django/core/files/storage.py\",\\n      \"start_line\": 193,\\n      \"end_line\": 194\\n    },\\n    {\\n      \"file_path\": \"django/core/files/storage.py\",\\n      \"start_line\": 217,\\n      \"end_line\": 217\\n    },\\n    {\\n      \"file_path\": \"docs/howto/deployment/checklist.txt\",\\n      \"start_line\": 0,\\n      \"end_line\": 0\\n    }\\n  ]\\n}'}], response={'id': 'fc31c370-7cde-4403-b469-714d4c0316af', 'created': 1740366904, 'model': 'deepseek/deepseek-chat', 'object': 'chat.completion', 'system_fingerprint': 'fp_3a5770e1b4_prod', 'choices': [{'finish_reason': 'stop', 'index': 0, 'message': {'content': '{\\n  \"thoughts\": \"The search request is focused on finding code snippets related to \\'FILE_UPLOAD_PERMISSIONS\\'. The most relevant code sections identified are from the Django settings and storage files, which define and utilize the \\'FILE_UPLOAD_PERMISSIONS\\' setting. These sections explain how file upload permissions are set and managed within Django, including default values and how they can be customized. The documentation also provides insights into the importance of setting file upload permissions correctly for security and operational reasons.\",\\n  \"identified_spans\": [\\n    {\\n      \"file_path\": \"django/conf/global_settings.py\",\\n      \"start_line\": 307,\\n      \"end_line\": 307\\n    },\\n    {\\n      \"file_path\": \"django/core/files/storage.py\",\\n      \"start_line\": 193,\\n      \"end_line\": 194\\n    },\\n    {\\n      \"file_path\": \"django/core/files/storage.py\",\\n      \"start_line\": 217,\\n      \"end_line\": 217\\n    },\\n    {\\n      \"file_path\": \"docs/howto/deployment/checklist.txt\",\\n      \"start_line\": 0,\\n      \"end_line\": 0\\n    }\\n  ]\\n}', 'role': 'assistant', 'tool_calls': None, 'function_call': None}}], 'usage': {'completion_tokens': 259, 'prompt_tokens': 11424, 'total_tokens': 11683, 'completion_tokens_details': None, 'prompt_tokens_details': {'audio_tokens': None, 'cached_tokens': 11392}, 'prompt_cache_hit_tokens': 11392, 'prompt_cache_miss_tokens': 32}, 'service_tier': None}, retries=None, usage=Usage(completion_cost=0.00109098, completion_tokens=259, prompt_tokens=11424, cached_tokens=11392), flags=[])\n"
     ]
    }
   ],
   "source": [
    "print(not new_node.is_duplicate and new_node.observation)"
   ]
  },
  {
   "cell_type": "code",
   "execution_count": 48,
   "id": "8204058b-6bd6-43d1-9045-75b3e63dda7f",
   "metadata": {},
   "outputs": [],
   "source": [
    "value_function = ValueFunction(completion_model=completion_model)"
   ]
  },
  {
   "cell_type": "markdown",
   "id": "481f5e47-8e83-4f49-977d-c3078533a17e",
   "metadata": {},
   "source": [
    "### value_function.get_reward函数内部"
   ]
  },
  {
   "cell_type": "code",
   "execution_count": 49,
   "id": "5e0e9677-90f0-4ce2-a068-642e31cdb05d",
   "metadata": {},
   "outputs": [],
   "source": [
    "from litellm.types.llms.openai import ChatCompletionUserMessage\n",
    "from moatless.value_function.model import Reward"
   ]
  },
  {
   "cell_type": "code",
   "execution_count": 50,
   "id": "7c55717c-c1c9-4dea-9d6d-421ded4f5649",
   "metadata": {},
   "outputs": [],
   "source": [
    "new_messages = message_generator.generate(new_node)"
   ]
  },
  {
   "cell_type": "code",
   "execution_count": 51,
   "id": "e33becbd-4eed-4c87-b9ae-7bafa3408379",
   "metadata": {
    "collapsed": true,
    "jupyter": {
     "outputs_hidden": true
    }
   },
   "outputs": [
    {
     "data": {
      "text/plain": [
       "'# Last Executed Action\\nThe following action was executed and its output is the subject of your evaluation:\\n\\n<executed_action>\\nAction: SemanticSearch\\nSearching for code using the query: file upload permissions\\n## Output\\nFound the following relevant code:\\ndjango/conf/global_settings.py\\n```\\n\\n      # ...\\n   290\\tFILE_UPLOAD_MAX_MEMORY_SIZE = 2621440  # i.e. 2.5 MB\\n   291\\t\\n   292\\t# Maximum size in bytes of request data (excluding file uploads) that will be\\n   293\\t# read before a SuspiciousOperation (RequestDataTooBig) is raised.\\n   294\\tDATA_UPLOAD_MAX_MEMORY_SIZE = 2621440  # i.e. 2.5 MB\\n   295\\t\\n   296\\t# Maximum number of GET/POST parameters that will be read before a\\n   297\\t# SuspiciousOperation (TooManyFieldsSent) is raised.\\n   298\\tDATA_UPLOAD_MAX_NUMBER_FIELDS = 1000\\n   299\\t\\n   300\\t# Directory in which upload streamed files will be temporarily saved. A value of\\n   301\\t# `None` will make Django use the operating system\\'s default temporary directory\\n   302\\t# (i.e. \"/tmp\" on *nix systems).\\n   303\\tFILE_UPLOAD_TEMP_DIR = None\\n   304\\t\\n   305\\t# The numeric mode to set newly-uploaded files to. The value should be a mode\\n   306\\t# you\\'d pass directly to os.chmod; see https://docs.python.org/library/os.html#files-and-directories.\\n   307\\tFILE_UPLOAD_PERMISSIONS = None\\n   308\\t\\n   309\\t# The numeric mode to assign to newly-created directories, when uploading files.\\n   310\\t# The value should be a mode as you\\'d pass to os.chmod;\\n   311\\t# see https://docs.python.org/library/os.html#files-and-directories.\\n   312\\tFILE_UPLOAD_DIRECTORY_PERMISSIONS = None\\n   313\\t\\n   314\\t# Python module path where user will place custom format definition.\\n   315\\t# The directory where this setting is pointing should contain subdirectories\\n   316\\t# named as the locales, containing a formats.py file\\n   317\\t# (i.e. \"myproject.locale\" for myproject/locale/en/formats.py etc. use)\\n   318\\tFORMAT_MODULE_PATH = None\\n   319\\t\\n   320\\t# Default formatting for date objects. See all available format strings here:\\n   321\\t# https://docs.djangoproject.com/en/dev/ref/templates/builtins/#date\\n   322\\tDATE_FORMAT = \\'N j, Y\\'\\n   323\\t\\n   324\\t# Default formatting for datetime objects. See all available format strings here:\\n   325\\t# https://docs.djangoproject.com/en/dev/ref/templates/builtins/#date\\n   326\\tDATETIME_FORMAT = \\'N j, Y, P\\'\\n   327\\t\\n   328\\t# Default formatting for time objects. See all available format strings here:\\n   329\\t# https://docs.djangoproject.com/en/dev/ref/templates/builtins/#date\\n   330\\tTIME_FORMAT = \\'P\\'\\n   331\\t\\n   332\\t# Default formatting for date objects when only the year and month are relevant.\\n   333\\t# See all available format strings here:\\n   334\\t# https://docs.djangoproject.com/en/dev/ref/templates/builtins/#date\\n   335\\tYEAR_MONTH_FORMAT = \\'F Y\\'\\n   336\\t\\n   337\\t# Default formatting for date objects when only the month and day are relevant.\\n   338\\t# See all available format strings here:\\n   339\\t# https://docs.djangoproject.com/en/dev/ref/templates/builtins/#date\\n      # ...\\n```\\n\\n\\ntests/file_uploads/models.py\\n```\\n     1\\tfrom django.db import models\\n     2\\t\\n     3\\t\\n     4\\tclass FileModel(models.Model):\\n     5\\t    testfile = models.FileField(upload_to=\\'test_upload\\')\\n```\\n\\n\\ntests/file_uploads/urls.py\\n```\\n     1\\tfrom django.urls import path, re_path\\n     2\\t\\n     3\\tfrom . import views\\n     4\\t\\n     5\\turlpatterns = [\\n     6\\t    path(\\'upload/\\', views.file_upload_view),\\n     7\\t    path(\\'verify/\\', views.file_upload_view_verify),\\n     8\\t    path(\\'unicode_name/\\', views.file_upload_unicode_name),\\n     9\\t    path(\\'echo/\\', views.file_upload_echo),\\n    10\\t    path(\\'echo_content_type_extra/\\', views.file_upload_content_type_extra),\\n    11\\t    path(\\'echo_content/\\', views.file_upload_echo_content),\\n    12\\t    path(\\'quota/\\', views.file_upload_quota),\\n    13\\t    path(\\'quota/broken/\\', views.file_upload_quota_broken),\\n    14\\t    path(\\'getlist_count/\\', views.file_upload_getlist_count),\\n    15\\t    path(\\'upload_errors/\\', views.file_upload_errors),\\n    16\\t    path(\\'filename_case/\\', views.file_upload_filename_case_view),\\n    17\\t    re_path(r\\'^fd_closing/(?P<access>t|f)/$\\', views.file_upload_fd_closing),\\n    18\\t]\\n```\\n\\n</executed_action>\\n\\n'"
      ]
     },
     "execution_count": 51,
     "metadata": {},
     "output_type": "execute_result"
    }
   ],
   "source": [
    "last_message = \"\"\n",
    "if new_node.observation.expect_correction and value_function.correction_award is not None:\n",
    "    last_message += \"# Automatic Reward Assessment\\n\"\n",
    "    last_message += f\"Action expects a correction. Suggested value: {value_function.correction_award}\\n\\n\"\n",
    "if new_node.action.name == \"Finish\":\n",
    "    last_message += \"# Completion Reasoning\\n\"\n",
    "    last_message += \"<reasoning_for_completion>\\n\"\n",
    "    last_message += new_node.action.finish_reason\n",
    "    last_message += \"\\n</reasoning_for_completion>\\n\\n\"\n",
    "else:\n",
    "    last_message += \"# Last Executed Action\\n\"\n",
    "    last_message += \"The following action was executed and its output is the subject of your evaluation:\\n\\n\"\n",
    "    last_message += \"<executed_action>\\n\"\n",
    "    last_message += f\"Action: {new_node.action.name}\\n\"\n",
    "    last_message += new_node.action.to_prompt()\n",
    "    last_message += \"\\n## Output\\n\"\n",
    "    last_message += new_node.observation.message\n",
    "    last_message += \"\\n</executed_action>\\n\\n\"\n",
    "\n",
    "last_message"
   ]
  },
  {
   "cell_type": "code",
   "execution_count": 52,
   "id": "3a7ea8b6-464c-4bcf-81bb-ec6f528e5905",
   "metadata": {},
   "outputs": [],
   "source": [
    "if last_message:\n",
    "    new_messages.append(\n",
    "        ChatCompletionUserMessage(role=\"user\", content=last_message)\n",
    "    )"
   ]
  },
  {
   "cell_type": "code",
   "execution_count": 53,
   "id": "266052fb-fcd9-4c5b-8ccc-f55614ade8d1",
   "metadata": {
    "collapsed": true,
    "jupyter": {
     "outputs_hidden": true
    },
    "scrolled": true
   },
   "outputs": [
    {
     "name": "stdout",
     "output_type": "stream",
     "text": [
      "Your role is to evaluate the **last executed action** of the search tree that our AI agents are traversing, to help us determine the best trajectory to solve a programming issue. The agent is responsible for identifying and modifying the correct file(s) in response to the problem statement.\n",
      "\n",
      "Important: While line numbers may be referenced in the initial problem description, they can shift as changes are made to the file. Focus on whether the agent is modifying the correct logical parts of the code, rather than strictly matching the initially mentioned line numbers. What matters is that the right section of code is being modified, even if its current line number differs from what was originally specified.\n",
      "\n",
      "At this stage, the agent is still working on the solution. Your task is twofold:\n",
      "1. **Evaluation**: Assess whether the change done by the **last executed action** is appropriate for addressing the problem and whether the agent is on the right path to resolving the issue. Verify that the correct sections of code are being modified, regardless of their current line numbers.\n",
      "2. **Alternative Feedback**: Independently of your evaluation, provide guidance for an alternative problem-solving branch. This ensures parallel exploration of different solution paths.\n",
      "\n",
      "# Evaluation Criteria:\n",
      "* Exploratory Actions: Recognize that initial searches and information-gathering steps are essential and should not be heavily penalized if they don't yield immediate results.\n",
      "* Appropriateness of Action: Evaluate if the action is logical given the agent's current knowledge and the early stage of problem-solving.\n",
      "* Query Relevance: Evaluate if the search query or parameters are well-defined and likely to find relevant code.\n",
      "* Search Scope Appropriateness: Check if the file patterns and class/function names narrow down the search effectively.\n",
      "* Relevance of Search Results: Assess whether the search results are directly related to the problem and useful for making progress.\n",
      "* Size of Search Results: Ensure that the code context provided is appropriately sized—not too large to overwhelm nor too small to be unhelpful.\n",
      "* Query Relevance: Evaluate if the search query is well-defined and likely to find relevant code.\n",
      "* Category Appropriateness: Assess if the category (implementation or test) aligns with the search intent.\n",
      "\n",
      "# Reward Scale and Guidelines:\n",
      "The reward value must be an integer between 0 and 100, where:\n",
      "\n",
      "* **90 to 100**: The search action is excellent, with well-defined parameters yielding only highly relevant results.\n",
      "* **75 to 89**: The search action is good, with reasonable parameters yielding relevant results.\n",
      "* **25 to 74**: The search action have issues with parameters or yields few or no relevant results.\n",
      "* **0 to 24**: The action is counterproductive, with search results that are entirely irrelevant or excessively large, causing setbacks.\n",
      "\n",
      "# Feedback Structure:\n",
      "\n",
      "* **Explanation**: Offer a detailed explanation and reasoning behind your decision, focusing on the **last executed action**, its relation to previous actions and its impact.\n",
      "* **Feedback to Alternative Branch**: Offer guidance for a parallel problem-solving branch. Suggest conceptual alternative approaches or strategies without providing actual code implementations. Use the search tree to guide your feedback, particularly by avoiding to suggest actions that would lead to the same or very similar previous outcomes.\n",
      "* **Reward**: Assign a single integer value between 0 and 100 based on your confidence in the correctness of the action and its likelihood of eventually leading to resolving the issue.\n",
      "\n",
      "\n",
      "# Available Actions:\n",
      "The following actions were available for the agent to choose from:\n",
      "\n",
      "\n",
      "\n",
      "## **FindClass\n",
      "\n",
      "Use this when you know the exact name of a class you want to find.\n",
      "\n",
      "Perfect for:\n",
      "- Finding class implementations: class_name=\"UserRepository\"\n",
      "- Locating test classes: class_name=\"TestUserAuthentication\"\n",
      "- Finding base classes: class_name=\"BaseController\"\n",
      "- Finding classes in specific modules: class_name=\"Config\", file_pattern=\"src/config/*.py\"\n",
      "\n",
      "## **FindFunction\n",
      "\n",
      "Use this when you know the exact name of a function or method you want to find.\n",
      "\n",
      "Perfect for:\n",
      "- Finding test cases: function_name=\"test_user_login\"\n",
      "- Locating specific implementations: function_name=\"process_payment\"\n",
      "- Finding all methods with a name: function_name=\"validate\"\n",
      "- Finding a specific class method: function_name=\"save\", class_name=\"UserRepository\"\n",
      "\n",
      "## **FindCodeSnippet\n",
      "\n",
      "Use this when you know the exact code you want to find.\n",
      "     It will run the command: grep -n -r \"code_snippet\" \"file_pattern\"\n",
      "\n",
      "Perfect for:\n",
      "- Finding specific constant definitions: code_snippet=\"MAX_RETRIES = 3\"\n",
      "- Finding decorator usage: code_snippet=\"@retry(max_attempts=3)\"\n",
      "- Finding specific imports: code_snippet=\"from datetime import datetime\"\n",
      "- Finding configuration patterns: code_snippet=\"DEBUG = os.getenv('DEBUG', False)\"\n",
      "\n",
      "Note: You must know the exact code snippet. Use SemanticSearch if you only know\n",
      "what the code does but not its exact implementation.\n",
      "\n",
      "## **SemanticSearch\n",
      "\n",
      "Use this when you don't know exact names or code but want to find related functionality.\n",
      "\n",
      "Perfect for:\n",
      "- Finding functionality by description: query=\"code that handles password hashing\"\n",
      "- Finding related test cases: query=\"tests for user registration\", category=\"test\"\n",
      "- Finding implementations: query=\"database connection pooling\", category=\"implementation\"\n",
      "- Finding patterns: query=\"error handling for API requests\"\n",
      "\n",
      "This is the most flexible search when you:\n",
      "- Don't know exact function/class names\n",
      "- Want to find similar implementations\n",
      "- Need to discover related code\n",
      "- Want to explore how certain features are implemented\n",
      "\n",
      "## **ViewCode\n",
      "\n",
      "View the code in a file or a specific code span.\n",
      "\n",
      "## **StringReplace\n",
      "\n",
      "Applies a change to a file by replacing text with exact string matching.\n",
      "\n",
      "Notes:\n",
      "* The old_str parameter must match EXACTLY one or more consecutive lines from the original file\n",
      "* Whitespace and indentation must match exactly:\n",
      "  - Use spaces for indentation, not tabs\n",
      "  - Match the exact number of spaces from the original code\n",
      "  - Do not modify the indentation pattern\n",
      "* The old_str must be unique within the file - include enough surrounding context to ensure uniqueness\n",
      "* The new_str parameter contains the replacement text that will replace old_str\n",
      "* No changes will be made if old_str appears multiple times or cannot be found\n",
      "* Do not include line numbers in old_str or new_str - provide only the actual code content\n",
      "\n",
      "## **CreateFile\n",
      "\n",
      "Create a new file with specified content.\n",
      "\n",
      "Notes:\n",
      "* Cannot be used if the specified path already exists\n",
      "* Will create parent directories if they don't exist\n",
      "* File content should include proper indentation and formatting\n",
      "\n",
      "## **RunTests\n",
      "\n",
      "Run the specified unit tests on the codebase.\n",
      "\n",
      "## **Finish\n",
      "\n",
      "Indicate that the task is fully completed and verified with new tests.\n",
      "\n",
      "## **Reject\n",
      "\n",
      "Reject the task and explain why.\n"
     ]
    }
   ],
   "source": [
    "system_prompt_value = value_function._create_system_prompt(new_node, None)\n",
    "print(system_prompt_value)"
   ]
  },
  {
   "cell_type": "code",
   "execution_count": 55,
   "id": "ce158768-b9b8-4fd4-bc14-d73d201c9d31",
   "metadata": {},
   "outputs": [],
   "source": [
    "completion_response = value_function.completion_model.create_completion(\n",
    "    messages=new_messages, system_prompt=system_prompt_value, response_model=Reward\n",
    ")"
   ]
  },
  {
   "cell_type": "code",
   "execution_count": 56,
   "id": "0b93b249-124f-41fd-91ab-1cf1f340c9c2",
   "metadata": {},
   "outputs": [
    {
     "data": {
      "text/plain": [
       "Reward(explanation=None, feedback=\"An alternative approach could involve searching for existing discussions or issues related to FILE_UPLOAD_PERMISSIONS on Django's GitHub repository or Stack Overflow. This could provide insights into how other developers have addressed similar concerns, and whether any community-driven solutions or workarounds exist. Additionally, exploring the documentation for FILE_UPLOAD_PERMISSIONS could yield more details on its usage and implications.\", value=90)"
      ]
     },
     "execution_count": 56,
     "metadata": {},
     "output_type": "execute_result"
    }
   ],
   "source": [
    "completion_response.structured_output"
   ]
  },
  {
   "cell_type": "code",
   "execution_count": 57,
   "id": "491fb545-f4c6-40c2-8731-cad38845a9db",
   "metadata": {},
   "outputs": [],
   "source": [
    "new_node.reward, completion_response = value_function.get_reward(\n",
    "                    node=new_node\n",
    "                )"
   ]
  },
  {
   "cell_type": "code",
   "execution_count": 58,
   "id": "014b484e-7b89-4ea6-b08e-3c94e6626e5d",
   "metadata": {},
   "outputs": [],
   "source": [
    "new_node.completions[\"value_function\"] = completion_response"
   ]
  },
  {
   "cell_type": "code",
   "execution_count": 59,
   "id": "0fd91582-d029-4f28-8d78-20a5fd409a49",
   "metadata": {},
   "outputs": [
    {
     "data": {
      "text/plain": [
       "dict_keys(['build_action', 'value_function'])"
      ]
     },
     "execution_count": 59,
     "metadata": {},
     "output_type": "execute_result"
    }
   ],
   "source": [
    "new_node.completions.keys()"
   ]
  },
  {
   "cell_type": "code",
   "execution_count": null,
   "id": "51c20a5a-60ae-4613-a903-4e07a827cea6",
   "metadata": {},
   "outputs": [],
   "source": [
    "# def _simulate(node: Node):\n",
    "#     \"\"\"Simulate a playout by executing the action and evaluating the result.\"\"\"\n",
    "\n",
    "#     if node.observation:\n",
    "#         print(f\"Node{node.node_id}: Action already executed. Skipping.\")\n",
    "#     else:\n",
    "#         agent.run(node)\n",
    "#     if self.value_function and not node.is_duplicate and node.observation:\n",
    "#         try:\n",
    "#             node.reward, completion_response = self.value_function.get_reward(\n",
    "#                 node=node\n",
    "#             )\n",
    "#             node.completions[\"value_function\"] = completion_response\n",
    "#             print(f\"Node{node.node_id}: The value function returned a reward of {node.reward.value}.\")\n",
    "#         except RejectError as e:\n",
    "#             self.log(\n",
    "#                 logger.warning,\n",
    "#                 f\"Node{node.node_id}: Value function rejected: {e.message}\",\n",
    "#             )\n",
    "#             node.reward = None\n",
    "#         except RuntimeError as e:\n",
    "#             self.log(\n",
    "#                 logger.error,\n",
    "#                 f\"Node{node.node_id}: Value function runtime error: {e.message}\",\n",
    "#             )\n",
    "#             raise  # Re-raise to abort the entire search"
   ]
  },
  {
   "cell_type": "code",
   "execution_count": null,
   "id": "d4578a9b-e4c3-4e5c-a4de-5d97bf00fa5a",
   "metadata": {},
   "outputs": [],
   "source": [
    "# _simulate(new_node)"
   ]
  },
  {
   "cell_type": "markdown",
   "id": "0ca6acfd-aac0-4cb3-aafa-071198f8821e",
   "metadata": {},
   "source": [
    "## SearchTree._backpropagate函数内部"
   ]
  },
  {
   "cell_type": "code",
   "execution_count": 60,
   "id": "728b04fe-3a63-4a9d-a252-7e87a9767d8a",
   "metadata": {},
   "outputs": [
    {
     "data": {
      "text/plain": [
       "90"
      ]
     },
     "execution_count": 60,
     "metadata": {},
     "output_type": "execute_result"
    }
   ],
   "source": [
    "reward = new_node.reward.value\n",
    "reward"
   ]
  },
  {
   "cell_type": "code",
   "execution_count": 61,
   "id": "8a7f9bc0-f1bc-44b2-a168-1d574d60f0a8",
   "metadata": {},
   "outputs": [
    {
     "name": "stdout",
     "output_type": "stream",
     "text": [
      "0\n",
      "None\n",
      "0\n",
      "None\n"
     ]
    }
   ],
   "source": [
    "n = new_node\n",
    "\n",
    "while n is not None:\n",
    "    print(n.visits)\n",
    "    print(n.value)\n",
    "    n = n.parent"
   ]
  },
  {
   "cell_type": "code",
   "execution_count": 62,
   "id": "fd9900c1-24d5-4cfe-9242-7a0108e8daf3",
   "metadata": {},
   "outputs": [],
   "source": [
    "def _backpropagate(node: Node):\n",
    "    \"\"\"Backpropagate the reward up the tree.\"\"\"\n",
    "\n",
    "    if not node.reward:\n",
    "        print(\n",
    "            f\"Node{node.node_id} has no evaluation. Skipping backpropagation.\",\n",
    "        )\n",
    "        return\n",
    "\n",
    "    reward = node.reward.value\n",
    "    while node is not None:\n",
    "        node.visits += 1\n",
    "        if not node.value:\n",
    "            node.value = reward\n",
    "        else:\n",
    "            node.value += reward\n",
    "        node = node.parent"
   ]
  },
  {
   "cell_type": "code",
   "execution_count": 63,
   "id": "a99b45ea-5686-46cf-8043-69bf5b3ca0f9",
   "metadata": {},
   "outputs": [],
   "source": [
    "_backpropagate(new_node)"
   ]
  },
  {
   "cell_type": "code",
   "execution_count": 64,
   "id": "0a72f92d-1e7b-4474-9740-8d5c135ba2d5",
   "metadata": {},
   "outputs": [
    {
     "name": "stdout",
     "output_type": "stream",
     "text": [
      "1\n",
      "90\n",
      "1\n",
      "90\n"
     ]
    }
   ],
   "source": [
    "n = new_node\n",
    "\n",
    "while n is not None:\n",
    "    print(n.visits)\n",
    "    print(n.value)\n",
    "    n = n.parent"
   ]
  }
 ],
 "metadata": {
  "kernelspec": {
   "display_name": "Python 3 (ipykernel)",
   "language": "python",
   "name": "python3"
  },
  "language_info": {
   "codemirror_mode": {
    "name": "ipython",
    "version": 3
   },
   "file_extension": ".py",
   "mimetype": "text/x-python",
   "name": "python",
   "nbconvert_exporter": "python",
   "pygments_lexer": "ipython3",
   "version": "3.12.2"
  }
 },
 "nbformat": 4,
 "nbformat_minor": 5
}
